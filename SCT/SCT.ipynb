{
 "cells": [
  {
   "cell_type": "code",
   "execution_count": 1,
   "metadata": {},
   "outputs": [
    {
     "name": "stderr",
     "output_type": "stream",
     "text": [
      "Loading required package: bigstatsr\n",
      "\n"
     ]
    }
   ],
   "source": [
    "library(bigsnpr)"
   ]
  },
  {
   "cell_type": "code",
   "execution_count": 2,
   "metadata": {},
   "outputs": [],
   "source": [
    "chr = 22"
   ]
  },
  {
   "cell_type": "code",
   "execution_count": 3,
   "metadata": {},
   "outputs": [],
   "source": [
    "# Reading bigSNP\n",
    "obj.bigSNP <- snp_attach(\"/mnt/stsi/stsi1/ptseng/UKBB_Resources/ldpred2/chr22/temp.rds\")\n",
    "obj.bigSNP$map$chromosome <- as.numeric(obj.bigSNP$map$chromosome)"
   ]
  },
  {
   "cell_type": "code",
   "execution_count": 4,
   "metadata": {},
   "outputs": [],
   "source": [
    "# Get aliases for useful slots\n",
    "G <- obj.bigSNP$genotypes\n",
    "map <- obj.bigSNP$map\n",
    "CHR <- map$chromosome\n",
    "POS <- map$physical.pos\n",
    "NCORES <- nb_cores()"
   ]
  },
  {
   "cell_type": "code",
   "execution_count": 5,
   "metadata": {},
   "outputs": [],
   "source": [
    "# Read external phenotype file\n",
    "phenotype <- read.csv('/mnt/stsi/stsi1/ptseng/UKBB_Resources/phenos/CAD.csv')"
   ]
  },
  {
   "cell_type": "code",
   "execution_count": 6,
   "metadata": {},
   "outputs": [],
   "source": [
    "# Matching individuals between genotypes and phenotypes\n",
    "genotype_ID <- read.csv('/mnt/stsi/stsi1/ptseng/UKBB_Resources/ID_list/impute4.txt')\n",
    "names(genotype_ID) <- 'ID'\n",
    "phenotype$use <- TRUE\n",
    "matched_phenotype <- merge(genotype_ID,phenotype,by = 'ID',all.x = TRUE,sort=FALSE)\n",
    "matched_phenotype <- merge(genotype_ID,matched_phenotype,by = 'ID',sort=FALSE)"
   ]
  },
  {
   "cell_type": "code",
   "execution_count": 15,
   "metadata": {},
   "outputs": [],
   "source": [
    "# Get aliases for useful slots\n",
    "y <- as.vector(na.omit(matched_phenotype$CAD_Composite))\n",
    "IND <- which(matched_phenotype$use)"
   ]
  },
  {
   "cell_type": "code",
   "execution_count": 8,
   "metadata": {},
   "outputs": [],
   "source": [
    "# Read external summary statistics file\n",
    "sumstats <- bigreadr::fread2(\"/gpfs/home/ptseng/Torkamani_Projects/20210712_Analysis-RegeniePaper/exBTs_regenie_phenoCol1_SPA_CADComp.regenie\")"
   ]
  },
  {
   "cell_type": "code",
   "execution_count": 9,
   "metadata": {},
   "outputs": [
    {
     "name": "stderr",
     "output_type": "stream",
     "text": [
      "163,600 variants to be matched.\n",
      "\n",
      "21,141 ambiguous SNPs have been removed.\n",
      "\n",
      "Some duplicates were removed.\n",
      "\n",
      "142,177 variants have been matched; 0 were flipped and 0 were reversed.\n",
      "\n"
     ]
    }
   ],
   "source": [
    "# Matching summary statistics with bigSNP map\n",
    "names(sumstats) <- c(\"chr\", \"pos\", \"rsid\", \"a0\", \"a1\", \"a1_freq\", \"info\", \"n_eff\", \"test\", \"beta\", \"beta_se\", \"chi_sq\", \"log_p\")\n",
    "minimap <- map[,-(2:3)]\n",
    "names(minimap) <- c(\"chr\", \"pos\", \"a0\", \"a1\")\n",
    "info_snp <- snp_match(sumstats[sumstats$chr == chr,], minimap)"
   ]
  },
  {
   "cell_type": "code",
   "execution_count": 10,
   "metadata": {},
   "outputs": [],
   "source": [
    "# beta and lpval need to have the same length as ncol(G), CHR and POS\n",
    "beta <- rep(NA, ncol(G))\n",
    "beta[info_snp$'_NUM_ID_'] <- info_snp$beta\n",
    "lpval <- rep(NA, ncol(G))\n",
    "lpval[info_snp$'_NUM_ID_'] <- info_snp$log_p"
   ]
  },
  {
   "cell_type": "code",
   "execution_count": null,
   "metadata": {},
   "outputs": [
    {
     "name": "stdout",
     "output_type": "stream",
     "text": [
      "\n",
      "\n",
      "Begninning Clumping"
     ]
    }
   ],
   "source": [
    "cat('\\nBegninning Clumping')\n",
    "# Clumping\n",
    "all_keep <- snp_grid_clumping(\n",
    "    G = G, \n",
    "    infos.chr = CHR, \n",
    "    infos.pos = POS, \n",
    "    lpS = lpval, \n",
    "    ind.row = IND,\n",
    "    exclude = which(is.na(lpval)),\n",
    "    ncores = NCORES\n",
    ")\n",
    "attr(all_keep, \"grid\")"
   ]
  },
  {
   "cell_type": "code",
   "execution_count": null,
   "metadata": {},
   "outputs": [],
   "source": [
    "cat('\\nBegninning Thresholding')\n",
    "# Thresholding\n",
    "multi_PRS <- snp_grid_PRS(\n",
    "    G = G, \n",
    "    all_keep = all_keep, \n",
    "    betas = beta, \n",
    "    lpS = lpval, \n",
    "    n_thr_lpS = 50, \n",
    "    ind.row = IND,\n",
    "    backingfile = \"/scratch_ssd/thresholding_temp\", \n",
    "    ncores = NCORES\n",
    ")"
   ]
  },
  {
   "cell_type": "code",
   "execution_count": null,
   "metadata": {},
   "outputs": [],
   "source": [
    "cat('\\nBegninning Stacking')\n",
    "# Stacking\n",
    "final_mod <- snp_grid_stacking(\n",
    "    multi_PRS = multi_PRS, \n",
    "    y.train = y, \n",
    "    K = 10, \n",
    "    ncores = NCORES\n",
    ")"
   ]
  },
  {
   "cell_type": "code",
   "execution_count": null,
   "metadata": {},
   "outputs": [],
   "source": [
    "# Making weights table\n",
    "output <- data.frame(info_snp$chr, info_snp$pos, info_snp$a0, info_snp$a1, na.omit(final_mod$beta.G))\n",
    "names(output) <- c('chr','pos','a0','a1','beta')"
   ]
  },
  {
   "cell_type": "code",
   "execution_count": null,
   "metadata": {},
   "outputs": [],
   "source": [
    "# Saving weights table\n",
    "write.csv(output,paste0('chr',chr,'_weights.csv'),row.names = FALSE)"
   ]
  }
 ],
 "metadata": {
  "kernelspec": {
   "display_name": "R",
   "language": "R",
   "name": "ir"
  },
  "language_info": {
   "codemirror_mode": "r",
   "file_extension": ".r",
   "mimetype": "text/x-r-source",
   "name": "R",
   "pygments_lexer": "r",
   "version": "4.0.0"
  }
 },
 "nbformat": 4,
 "nbformat_minor": 4
}
