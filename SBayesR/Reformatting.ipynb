{
 "cells": [
  {
   "cell_type": "code",
   "execution_count": 5,
   "metadata": {},
   "outputs": [
    {
     "data": {
      "text/html": [
       "<table class=\"dataframe\">\n",
       "<caption>A data.frame: 6 × 3</caption>\n",
       "<thead>\n",
       "\t<tr><th></th><th scope=col>ID</th><th scope=col>CAD_UKBB</th><th scope=col>CAD_Composite</th></tr>\n",
       "\t<tr><th></th><th scope=col>&lt;int&gt;</th><th scope=col>&lt;int&gt;</th><th scope=col>&lt;int&gt;</th></tr>\n",
       "</thead>\n",
       "<tbody>\n",
       "\t<tr><th scope=row>1</th><td>1000013</td><td>0</td><td>0</td></tr>\n",
       "\t<tr><th scope=row>2</th><td>1000024</td><td>0</td><td>0</td></tr>\n",
       "\t<tr><th scope=row>3</th><td>1000036</td><td>0</td><td>0</td></tr>\n",
       "\t<tr><th scope=row>4</th><td>1000048</td><td>0</td><td>0</td></tr>\n",
       "\t<tr><th scope=row>5</th><td>1000055</td><td>0</td><td>1</td></tr>\n",
       "\t<tr><th scope=row>6</th><td>1000067</td><td>0</td><td>0</td></tr>\n",
       "</tbody>\n",
       "</table>\n"
      ],
      "text/latex": [
       "A data.frame: 6 × 3\n",
       "\\begin{tabular}{r|lll}\n",
       "  & ID & CAD\\_UKBB & CAD\\_Composite\\\\\n",
       "  & <int> & <int> & <int>\\\\\n",
       "\\hline\n",
       "\t1 & 1000013 & 0 & 0\\\\\n",
       "\t2 & 1000024 & 0 & 0\\\\\n",
       "\t3 & 1000036 & 0 & 0\\\\\n",
       "\t4 & 1000048 & 0 & 0\\\\\n",
       "\t5 & 1000055 & 0 & 1\\\\\n",
       "\t6 & 1000067 & 0 & 0\\\\\n",
       "\\end{tabular}\n"
      ],
      "text/markdown": [
       "\n",
       "A data.frame: 6 × 3\n",
       "\n",
       "| <!--/--> | ID &lt;int&gt; | CAD_UKBB &lt;int&gt; | CAD_Composite &lt;int&gt; |\n",
       "|---|---|---|---|\n",
       "| 1 | 1000013 | 0 | 0 |\n",
       "| 2 | 1000024 | 0 | 0 |\n",
       "| 3 | 1000036 | 0 | 0 |\n",
       "| 4 | 1000048 | 0 | 0 |\n",
       "| 5 | 1000055 | 0 | 1 |\n",
       "| 6 | 1000067 | 0 | 0 |\n",
       "\n"
      ],
      "text/plain": [
       "  ID      CAD_UKBB CAD_Composite\n",
       "1 1000013 0        0            \n",
       "2 1000024 0        0            \n",
       "3 1000036 0        0            \n",
       "4 1000048 0        0            \n",
       "5 1000055 0        1            \n",
       "6 1000067 0        0            "
      ]
     },
     "metadata": {},
     "output_type": "display_data"
    }
   ],
   "source": [
    "data <- read.csv(\"/mnt/stsi/stsi1/ptseng/UKBB_Resources/phenos/CAD.csv\")\n",
    "head(data)"
   ]
  },
  {
   "cell_type": "code",
   "execution_count": 6,
   "metadata": {},
   "outputs": [],
   "source": [
    "data <- data.frame(IID=data$ID,FID=data$ID,CAD_Composite=data$CAD_Composite)"
   ]
  },
  {
   "cell_type": "code",
   "execution_count": 7,
   "metadata": {},
   "outputs": [
    {
     "data": {
      "text/html": [
       "<table class=\"dataframe\">\n",
       "<caption>A data.frame: 6 × 3</caption>\n",
       "<thead>\n",
       "\t<tr><th></th><th scope=col>IID</th><th scope=col>FID</th><th scope=col>CAD_Composite</th></tr>\n",
       "\t<tr><th></th><th scope=col>&lt;int&gt;</th><th scope=col>&lt;int&gt;</th><th scope=col>&lt;int&gt;</th></tr>\n",
       "</thead>\n",
       "<tbody>\n",
       "\t<tr><th scope=row>1</th><td>1000013</td><td>1000013</td><td>0</td></tr>\n",
       "\t<tr><th scope=row>2</th><td>1000024</td><td>1000024</td><td>0</td></tr>\n",
       "\t<tr><th scope=row>3</th><td>1000036</td><td>1000036</td><td>0</td></tr>\n",
       "\t<tr><th scope=row>4</th><td>1000048</td><td>1000048</td><td>0</td></tr>\n",
       "\t<tr><th scope=row>5</th><td>1000055</td><td>1000055</td><td>1</td></tr>\n",
       "\t<tr><th scope=row>6</th><td>1000067</td><td>1000067</td><td>0</td></tr>\n",
       "</tbody>\n",
       "</table>\n"
      ],
      "text/latex": [
       "A data.frame: 6 × 3\n",
       "\\begin{tabular}{r|lll}\n",
       "  & IID & FID & CAD\\_Composite\\\\\n",
       "  & <int> & <int> & <int>\\\\\n",
       "\\hline\n",
       "\t1 & 1000013 & 1000013 & 0\\\\\n",
       "\t2 & 1000024 & 1000024 & 0\\\\\n",
       "\t3 & 1000036 & 1000036 & 0\\\\\n",
       "\t4 & 1000048 & 1000048 & 0\\\\\n",
       "\t5 & 1000055 & 1000055 & 1\\\\\n",
       "\t6 & 1000067 & 1000067 & 0\\\\\n",
       "\\end{tabular}\n"
      ],
      "text/markdown": [
       "\n",
       "A data.frame: 6 × 3\n",
       "\n",
       "| <!--/--> | IID &lt;int&gt; | FID &lt;int&gt; | CAD_Composite &lt;int&gt; |\n",
       "|---|---|---|---|\n",
       "| 1 | 1000013 | 1000013 | 0 |\n",
       "| 2 | 1000024 | 1000024 | 0 |\n",
       "| 3 | 1000036 | 1000036 | 0 |\n",
       "| 4 | 1000048 | 1000048 | 0 |\n",
       "| 5 | 1000055 | 1000055 | 1 |\n",
       "| 6 | 1000067 | 1000067 | 0 |\n",
       "\n"
      ],
      "text/plain": [
       "  IID     FID     CAD_Composite\n",
       "1 1000013 1000013 0            \n",
       "2 1000024 1000024 0            \n",
       "3 1000036 1000036 0            \n",
       "4 1000048 1000048 0            \n",
       "5 1000055 1000055 1            \n",
       "6 1000067 1000067 0            "
      ]
     },
     "metadata": {},
     "output_type": "display_data"
    }
   ],
   "source": [
    "head(data)"
   ]
  },
  {
   "cell_type": "code",
   "execution_count": 9,
   "metadata": {},
   "outputs": [],
   "source": [
    "write.table(data,\"/mnt/stsi/stsi1/ptseng/UKBB_Resources/phenos/plink_CAD.txt\",row.names=FALSE,col.names=FALSE)"
   ]
  },
  {
   "cell_type": "code",
   "execution_count": null,
   "metadata": {},
   "outputs": [],
   "source": []
  }
 ],
 "metadata": {
  "kernelspec": {
   "display_name": "R",
   "language": "R",
   "name": "ir"
  },
  "language_info": {
   "codemirror_mode": "r",
   "file_extension": ".r",
   "mimetype": "text/x-r-source",
   "name": "R",
   "pygments_lexer": "r",
   "version": "4.0.0"
  }
 },
 "nbformat": 4,
 "nbformat_minor": 4
}
