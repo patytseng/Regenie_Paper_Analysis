{
 "cells": [
  {
   "cell_type": "code",
   "execution_count": 1,
   "metadata": {},
   "outputs": [
    {
     "name": "stderr",
     "output_type": "stream",
     "text": [
      "Loading required package: bigstatsr\n",
      "\n"
     ]
    }
   ],
   "source": [
    "library(bigsnpr)\n",
    "library(tidyr)"
   ]
  },
  {
   "cell_type": "code",
   "execution_count": 2,
   "metadata": {},
   "outputs": [
    {
     "data": {
      "text/html": [
       "<style>\n",
       ".list-inline {list-style: none; margin:0; padding: 0}\n",
       ".list-inline>li {display: inline-block}\n",
       ".list-inline>li:not(:last-child)::after {content: \"\\00b7\"; padding: 0 .5ex}\n",
       "</style>\n",
       "<ol class=list-inline><li>'exBTs_regenie_phenoCol1_SPA_chr1_CADComp.regenie'</li><li>'exBTs_regenie_phenoCol1_SPA_chr2_CADComp.regenie'</li><li>'exBTs_regenie_phenoCol1_SPA_chr3_CADComp.regenie'</li><li>'exBTs_regenie_phenoCol1_SPA_chr4_CADComp.regenie'</li><li>'exBTs_regenie_phenoCol1_SPA_chr5_CADComp.regenie'</li><li>'exBTs_regenie_phenoCol1_SPA_chr6_CADComp.regenie'</li><li>'exBTs_regenie_phenoCol1_SPA_chr7_CADComp.regenie'</li><li>'exBTs_regenie_phenoCol1_SPA_chr8_CADComp.regenie'</li><li>'exBTs_regenie_phenoCol1_SPA_chr9_CADComp.regenie'</li><li>'exBTs_regenie_phenoCol1_SPA_chr10_CADComp.regenie'</li><li>'exBTs_regenie_phenoCol1_SPA_chr11_CADComp.regenie'</li><li>'exBTs_regenie_phenoCol1_SPA_chr12_CADComp.regenie'</li><li>'exBTs_regenie_phenoCol1_SPA_chr13_CADComp.regenie'</li><li>'exBTs_regenie_phenoCol1_SPA_chr14_CADComp.regenie'</li><li>'exBTs_regenie_phenoCol1_SPA_chr15_CADComp.regenie'</li><li>'exBTs_regenie_phenoCol1_SPA_chr16_CADComp.regenie'</li><li>'exBTs_regenie_phenoCol1_SPA_chr17_CADComp.regenie'</li><li>'exBTs_regenie_phenoCol1_SPA_chr18_CADComp.regenie'</li><li>'exBTs_regenie_phenoCol1_SPA_chr19_CADComp.regenie'</li><li>'exBTs_regenie_phenoCol1_SPA_chr20_CADComp.regenie'</li><li>'exBTs_regenie_phenoCol1_SPA_chr21_CADComp.regenie'</li><li>'exBTs_regenie_phenoCol1_SPA_chr22_CADComp.regenie'</li></ol>\n"
      ],
      "text/latex": [
       "\\begin{enumerate*}\n",
       "\\item 'exBTs\\_regenie\\_phenoCol1\\_SPA\\_chr1\\_CADComp.regenie'\n",
       "\\item 'exBTs\\_regenie\\_phenoCol1\\_SPA\\_chr2\\_CADComp.regenie'\n",
       "\\item 'exBTs\\_regenie\\_phenoCol1\\_SPA\\_chr3\\_CADComp.regenie'\n",
       "\\item 'exBTs\\_regenie\\_phenoCol1\\_SPA\\_chr4\\_CADComp.regenie'\n",
       "\\item 'exBTs\\_regenie\\_phenoCol1\\_SPA\\_chr5\\_CADComp.regenie'\n",
       "\\item 'exBTs\\_regenie\\_phenoCol1\\_SPA\\_chr6\\_CADComp.regenie'\n",
       "\\item 'exBTs\\_regenie\\_phenoCol1\\_SPA\\_chr7\\_CADComp.regenie'\n",
       "\\item 'exBTs\\_regenie\\_phenoCol1\\_SPA\\_chr8\\_CADComp.regenie'\n",
       "\\item 'exBTs\\_regenie\\_phenoCol1\\_SPA\\_chr9\\_CADComp.regenie'\n",
       "\\item 'exBTs\\_regenie\\_phenoCol1\\_SPA\\_chr10\\_CADComp.regenie'\n",
       "\\item 'exBTs\\_regenie\\_phenoCol1\\_SPA\\_chr11\\_CADComp.regenie'\n",
       "\\item 'exBTs\\_regenie\\_phenoCol1\\_SPA\\_chr12\\_CADComp.regenie'\n",
       "\\item 'exBTs\\_regenie\\_phenoCol1\\_SPA\\_chr13\\_CADComp.regenie'\n",
       "\\item 'exBTs\\_regenie\\_phenoCol1\\_SPA\\_chr14\\_CADComp.regenie'\n",
       "\\item 'exBTs\\_regenie\\_phenoCol1\\_SPA\\_chr15\\_CADComp.regenie'\n",
       "\\item 'exBTs\\_regenie\\_phenoCol1\\_SPA\\_chr16\\_CADComp.regenie'\n",
       "\\item 'exBTs\\_regenie\\_phenoCol1\\_SPA\\_chr17\\_CADComp.regenie'\n",
       "\\item 'exBTs\\_regenie\\_phenoCol1\\_SPA\\_chr18\\_CADComp.regenie'\n",
       "\\item 'exBTs\\_regenie\\_phenoCol1\\_SPA\\_chr19\\_CADComp.regenie'\n",
       "\\item 'exBTs\\_regenie\\_phenoCol1\\_SPA\\_chr20\\_CADComp.regenie'\n",
       "\\item 'exBTs\\_regenie\\_phenoCol1\\_SPA\\_chr21\\_CADComp.regenie'\n",
       "\\item 'exBTs\\_regenie\\_phenoCol1\\_SPA\\_chr22\\_CADComp.regenie'\n",
       "\\end{enumerate*}\n"
      ],
      "text/markdown": [
       "1. 'exBTs_regenie_phenoCol1_SPA_chr1_CADComp.regenie'\n",
       "2. 'exBTs_regenie_phenoCol1_SPA_chr2_CADComp.regenie'\n",
       "3. 'exBTs_regenie_phenoCol1_SPA_chr3_CADComp.regenie'\n",
       "4. 'exBTs_regenie_phenoCol1_SPA_chr4_CADComp.regenie'\n",
       "5. 'exBTs_regenie_phenoCol1_SPA_chr5_CADComp.regenie'\n",
       "6. 'exBTs_regenie_phenoCol1_SPA_chr6_CADComp.regenie'\n",
       "7. 'exBTs_regenie_phenoCol1_SPA_chr7_CADComp.regenie'\n",
       "8. 'exBTs_regenie_phenoCol1_SPA_chr8_CADComp.regenie'\n",
       "9. 'exBTs_regenie_phenoCol1_SPA_chr9_CADComp.regenie'\n",
       "10. 'exBTs_regenie_phenoCol1_SPA_chr10_CADComp.regenie'\n",
       "11. 'exBTs_regenie_phenoCol1_SPA_chr11_CADComp.regenie'\n",
       "12. 'exBTs_regenie_phenoCol1_SPA_chr12_CADComp.regenie'\n",
       "13. 'exBTs_regenie_phenoCol1_SPA_chr13_CADComp.regenie'\n",
       "14. 'exBTs_regenie_phenoCol1_SPA_chr14_CADComp.regenie'\n",
       "15. 'exBTs_regenie_phenoCol1_SPA_chr15_CADComp.regenie'\n",
       "16. 'exBTs_regenie_phenoCol1_SPA_chr16_CADComp.regenie'\n",
       "17. 'exBTs_regenie_phenoCol1_SPA_chr17_CADComp.regenie'\n",
       "18. 'exBTs_regenie_phenoCol1_SPA_chr18_CADComp.regenie'\n",
       "19. 'exBTs_regenie_phenoCol1_SPA_chr19_CADComp.regenie'\n",
       "20. 'exBTs_regenie_phenoCol1_SPA_chr20_CADComp.regenie'\n",
       "21. 'exBTs_regenie_phenoCol1_SPA_chr21_CADComp.regenie'\n",
       "22. 'exBTs_regenie_phenoCol1_SPA_chr22_CADComp.regenie'\n",
       "\n",
       "\n"
      ],
      "text/plain": [
       "exBTs_regenie_phenoCol1_SPA_chr1_CADComp.regenie\n",
       "exBTs_regenie_phenoCol1_SPA_chr2_CADComp.regenie\n",
       "exBTs_regenie_phenoCol1_SPA_chr3_CADComp.regenie\n",
       "exBTs_regenie_phenoCol1_SPA_chr4_CADComp.regenie\n",
       "exBTs_regenie_phenoCol1_SPA_chr5_CADComp.regenie\n",
       "exBTs_regenie_phenoCol1_SPA_chr6_CADComp.regenie\n",
       "exBTs_regenie_phenoCol1_SPA_chr7_CADComp.regenie\n",
       "exBTs_regenie_phenoCol1_SPA_chr8_CADComp.regenie\n",
       "exBTs_regenie_phenoCol1_SPA_chr9_CADComp.regenie\n",
       "exBTs_regenie_phenoCol1_SPA_chr10_CADComp.regenie\n",
       "exBTs_regenie_phenoCol1_SPA_chr11_CADComp.regenie\n",
       "exBTs_regenie_phenoCol1_SPA_chr12_CADComp.regenie\n",
       "exBTs_regenie_phenoCol1_SPA_chr13_CADComp.regenie\n",
       "exBTs_regenie_phenoCol1_SPA_chr14_CADComp.regenie\n",
       "exBTs_regenie_phenoCol1_SPA_chr15_CADComp.regenie\n",
       "exBTs_regenie_phenoCol1_SPA_chr16_CADComp.regenie\n",
       "exBTs_regenie_phenoCol1_SPA_chr17_CADComp.regenie\n",
       "exBTs_regenie_phenoCol1_SPA_chr18_CADComp.regenie\n",
       "exBTs_regenie_phenoCol1_SPA_chr19_CADComp.regenie\n",
       "exBTs_regenie_phenoCol1_SPA_chr20_CADComp.regenie\n",
       "exBTs_regenie_phenoCol1_SPA_chr21_CADComp.regenie\n",
       "exBTs_regenie_phenoCol1_SPA_chr22_CADComp.regenie"
      ]
     },
     "metadata": {},
     "output_type": "display_data"
    }
   ],
   "source": [
    "files <- glue::glue('exBTs_regenie_phenoCol1_SPA_chr{chr}_CADComp.regenie', chr = 1:22)\n",
    "files"
   ]
  },
  {
   "cell_type": "code",
   "execution_count": 3,
   "metadata": {},
   "outputs": [
    {
     "name": "stderr",
     "output_type": "stream",
     "text": [
      "Warning message in file(file, \"rt\"):\n",
      "“cannot open file 'exBTs_regenie_phenoCol1_SPA_chr1_CADComp.regenie': No such file or directory”\n"
     ]
    },
    {
     "ename": "ERROR",
     "evalue": "Error in file(file, \"rt\"): cannot open the connection\n",
     "output_type": "error",
     "traceback": [
      "Error in file(file, \"rt\"): cannot open the connection\nTraceback:\n",
      "1. read.csv(file, sep = \" \")",
      "2. read.table(file = file, header = header, sep = sep, quote = quote, \n .     dec = dec, fill = fill, comment.char = comment.char, ...)",
      "3. file(file, \"rt\")"
     ]
    }
   ],
   "source": [
    "first <- TRUE\n",
    "for (file in files) {\n",
    "    if (first) {\n",
    "        data <- read.csv(file,sep=' ')\n",
    "        first <- FALSE\n",
    "    } else {\n",
    "        data <- rbind(data,read.csv(file,sep=' '))\n",
    "    }\n",
    "}"
   ]
  },
  {
   "cell_type": "code",
   "execution_count": null,
   "metadata": {},
   "outputs": [],
   "source": [
    "head(data)"
   ]
  },
  {
   "cell_type": "code",
   "execution_count": 22,
   "metadata": {},
   "outputs": [
    {
     "data": {
      "text/html": [
       "<table class=\"dataframe\">\n",
       "<caption>A data.frame: 6 × 13</caption>\n",
       "<thead>\n",
       "\t<tr><th></th><th scope=col>CHROM</th><th scope=col>GENPOS</th><th scope=col>ID</th><th scope=col>ALLELE0</th><th scope=col>ALLELE1</th><th scope=col>A1FREQ</th><th scope=col>INFO</th><th scope=col>N</th><th scope=col>TEST</th><th scope=col>BETA</th><th scope=col>SE</th><th scope=col>CHISQ</th><th scope=col>LOG10P</th></tr>\n",
       "\t<tr><th></th><th scope=col>&lt;int&gt;</th><th scope=col>&lt;int&gt;</th><th scope=col>&lt;chr&gt;</th><th scope=col>&lt;chr&gt;</th><th scope=col>&lt;chr&gt;</th><th scope=col>&lt;dbl&gt;</th><th scope=col>&lt;dbl&gt;</th><th scope=col>&lt;int&gt;</th><th scope=col>&lt;chr&gt;</th><th scope=col>&lt;dbl&gt;</th><th scope=col>&lt;dbl&gt;</th><th scope=col>&lt;dbl&gt;</th><th scope=col>&lt;dbl&gt;</th></tr>\n",
       "</thead>\n",
       "<tbody>\n",
       "\t<tr><th scope=row>1</th><td>1</td><td>10177</td><td>rs367896724                     </td><td>A                     </td><td>AC</td><td>0.4007830</td><td>0.467935</td><td>487275</td><td>ADD</td><td>-0.00713639</td><td>0.00968069</td><td>0.54343100</td><td>0.336286</td></tr>\n",
       "\t<tr><th scope=row>2</th><td>1</td><td>10352</td><td>rs201106462                     </td><td>T                     </td><td>TA</td><td>0.3946190</td><td>0.447900</td><td>487275</td><td>ADD</td><td> 0.00733421</td><td>0.00994752</td><td>0.54359600</td><td>0.336350</td></tr>\n",
       "\t<tr><th scope=row>3</th><td>1</td><td>10616</td><td>1:10616_CCGCCGTTGCAAAGGCGCGCCG_C</td><td>CCGCCGTTGCAAAGGCGCGCCG</td><td>C </td><td>0.9941670</td><td>0.468135</td><td>487275</td><td>ADD</td><td>-0.06065190</td><td>0.06204040</td><td>0.95573800</td><td>0.483778</td></tr>\n",
       "\t<tr><th scope=row>4</th><td>1</td><td>11008</td><td>rs575272151                     </td><td>C                     </td><td>G </td><td>0.0865920</td><td>0.495022</td><td>487275</td><td>ADD</td><td>-0.01191050</td><td>0.01643370</td><td>0.52527700</td><td>0.329198</td></tr>\n",
       "\t<tr><th scope=row>5</th><td>1</td><td>11012</td><td>rs544419019                     </td><td>C                     </td><td>G </td><td>0.0865920</td><td>0.495022</td><td>487275</td><td>ADD</td><td>-0.01191050</td><td>0.01643370</td><td>0.52527700</td><td>0.329198</td></tr>\n",
       "\t<tr><th scope=row>6</th><td>1</td><td>13110</td><td>rs540538026                     </td><td>G                     </td><td>A </td><td>0.0572374</td><td>0.391826</td><td>487275</td><td>ADD</td><td>-0.00217351</td><td>0.02227290</td><td>0.00952296</td><td>0.035146</td></tr>\n",
       "</tbody>\n",
       "</table>\n"
      ],
      "text/latex": [
       "A data.frame: 6 × 13\n",
       "\\begin{tabular}{r|lllllllllllll}\n",
       "  & CHROM & GENPOS & ID & ALLELE0 & ALLELE1 & A1FREQ & INFO & N & TEST & BETA & SE & CHISQ & LOG10P\\\\\n",
       "  & <int> & <int> & <chr> & <chr> & <chr> & <dbl> & <dbl> & <int> & <chr> & <dbl> & <dbl> & <dbl> & <dbl>\\\\\n",
       "\\hline\n",
       "\t1 & 1 & 10177 & rs367896724                      & A                      & AC & 0.4007830 & 0.467935 & 487275 & ADD & -0.00713639 & 0.00968069 & 0.54343100 & 0.336286\\\\\n",
       "\t2 & 1 & 10352 & rs201106462                      & T                      & TA & 0.3946190 & 0.447900 & 487275 & ADD &  0.00733421 & 0.00994752 & 0.54359600 & 0.336350\\\\\n",
       "\t3 & 1 & 10616 & 1:10616\\_CCGCCGTTGCAAAGGCGCGCCG\\_C & CCGCCGTTGCAAAGGCGCGCCG & C  & 0.9941670 & 0.468135 & 487275 & ADD & -0.06065190 & 0.06204040 & 0.95573800 & 0.483778\\\\\n",
       "\t4 & 1 & 11008 & rs575272151                      & C                      & G  & 0.0865920 & 0.495022 & 487275 & ADD & -0.01191050 & 0.01643370 & 0.52527700 & 0.329198\\\\\n",
       "\t5 & 1 & 11012 & rs544419019                      & C                      & G  & 0.0865920 & 0.495022 & 487275 & ADD & -0.01191050 & 0.01643370 & 0.52527700 & 0.329198\\\\\n",
       "\t6 & 1 & 13110 & rs540538026                      & G                      & A  & 0.0572374 & 0.391826 & 487275 & ADD & -0.00217351 & 0.02227290 & 0.00952296 & 0.035146\\\\\n",
       "\\end{tabular}\n"
      ],
      "text/markdown": [
       "\n",
       "A data.frame: 6 × 13\n",
       "\n",
       "| <!--/--> | CHROM &lt;int&gt; | GENPOS &lt;int&gt; | ID &lt;chr&gt; | ALLELE0 &lt;chr&gt; | ALLELE1 &lt;chr&gt; | A1FREQ &lt;dbl&gt; | INFO &lt;dbl&gt; | N &lt;int&gt; | TEST &lt;chr&gt; | BETA &lt;dbl&gt; | SE &lt;dbl&gt; | CHISQ &lt;dbl&gt; | LOG10P &lt;dbl&gt; |\n",
       "|---|---|---|---|---|---|---|---|---|---|---|---|---|---|\n",
       "| 1 | 1 | 10177 | rs367896724                      | A                      | AC | 0.4007830 | 0.467935 | 487275 | ADD | -0.00713639 | 0.00968069 | 0.54343100 | 0.336286 |\n",
       "| 2 | 1 | 10352 | rs201106462                      | T                      | TA | 0.3946190 | 0.447900 | 487275 | ADD |  0.00733421 | 0.00994752 | 0.54359600 | 0.336350 |\n",
       "| 3 | 1 | 10616 | 1:10616_CCGCCGTTGCAAAGGCGCGCCG_C | CCGCCGTTGCAAAGGCGCGCCG | C  | 0.9941670 | 0.468135 | 487275 | ADD | -0.06065190 | 0.06204040 | 0.95573800 | 0.483778 |\n",
       "| 4 | 1 | 11008 | rs575272151                      | C                      | G  | 0.0865920 | 0.495022 | 487275 | ADD | -0.01191050 | 0.01643370 | 0.52527700 | 0.329198 |\n",
       "| 5 | 1 | 11012 | rs544419019                      | C                      | G  | 0.0865920 | 0.495022 | 487275 | ADD | -0.01191050 | 0.01643370 | 0.52527700 | 0.329198 |\n",
       "| 6 | 1 | 13110 | rs540538026                      | G                      | A  | 0.0572374 | 0.391826 | 487275 | ADD | -0.00217351 | 0.02227290 | 0.00952296 | 0.035146 |\n",
       "\n"
      ],
      "text/plain": [
       "  CHROM GENPOS ID                               ALLELE0                ALLELE1\n",
       "1 1     10177  rs367896724                      A                      AC     \n",
       "2 1     10352  rs201106462                      T                      TA     \n",
       "3 1     10616  1:10616_CCGCCGTTGCAAAGGCGCGCCG_C CCGCCGTTGCAAAGGCGCGCCG C      \n",
       "4 1     11008  rs575272151                      C                      G      \n",
       "5 1     11012  rs544419019                      C                      G      \n",
       "6 1     13110  rs540538026                      G                      A      \n",
       "  A1FREQ    INFO     N      TEST BETA        SE         CHISQ      LOG10P  \n",
       "1 0.4007830 0.467935 487275 ADD  -0.00713639 0.00968069 0.54343100 0.336286\n",
       "2 0.3946190 0.447900 487275 ADD   0.00733421 0.00994752 0.54359600 0.336350\n",
       "3 0.9941670 0.468135 487275 ADD  -0.06065190 0.06204040 0.95573800 0.483778\n",
       "4 0.0865920 0.495022 487275 ADD  -0.01191050 0.01643370 0.52527700 0.329198\n",
       "5 0.0865920 0.495022 487275 ADD  -0.01191050 0.01643370 0.52527700 0.329198\n",
       "6 0.0572374 0.391826 487275 ADD  -0.00217351 0.02227290 0.00952296 0.035146"
      ]
     },
     "metadata": {},
     "output_type": "display_data"
    }
   ],
   "source": [
    "data <- read.csv('exBTs_regenie_phenoCol1_SPA_CADComp.regenie.stats',sep=' ')\n",
    "head(data)"
   ]
  },
  {
   "cell_type": "code",
   "execution_count": 30,
   "metadata": {},
   "outputs": [
    {
     "data": {
      "text/html": [
       "<table class=\"dataframe\">\n",
       "<caption>A data.frame: 1 × 13</caption>\n",
       "<thead>\n",
       "\t<tr><th></th><th scope=col>CHROM</th><th scope=col>GENPOS</th><th scope=col>ID</th><th scope=col>ALLELE0</th><th scope=col>ALLELE1</th><th scope=col>A1FREQ</th><th scope=col>INFO</th><th scope=col>N</th><th scope=col>TEST</th><th scope=col>BETA</th><th scope=col>SE</th><th scope=col>CHISQ</th><th scope=col>LOG10P</th></tr>\n",
       "\t<tr><th></th><th scope=col>&lt;int&gt;</th><th scope=col>&lt;int&gt;</th><th scope=col>&lt;chr&gt;</th><th scope=col>&lt;chr&gt;</th><th scope=col>&lt;chr&gt;</th><th scope=col>&lt;dbl&gt;</th><th scope=col>&lt;dbl&gt;</th><th scope=col>&lt;int&gt;</th><th scope=col>&lt;chr&gt;</th><th scope=col>&lt;dbl&gt;</th><th scope=col>&lt;dbl&gt;</th><th scope=col>&lt;dbl&gt;</th><th scope=col>&lt;dbl&gt;</th></tr>\n",
       "</thead>\n",
       "<tbody>\n",
       "\t<tr><th scope=row>4951716</th><td>6</td><td>161005610</td><td>rs55730499</td><td>C</td><td>T</td><td>0.0767556</td><td>0.997045</td><td>487275</td><td>ADD</td><td>0.261695</td><td>0.0122105</td><td>459.326</td><td>101.171</td></tr>\n",
       "</tbody>\n",
       "</table>\n"
      ],
      "text/latex": [
       "A data.frame: 1 × 13\n",
       "\\begin{tabular}{r|lllllllllllll}\n",
       "  & CHROM & GENPOS & ID & ALLELE0 & ALLELE1 & A1FREQ & INFO & N & TEST & BETA & SE & CHISQ & LOG10P\\\\\n",
       "  & <int> & <int> & <chr> & <chr> & <chr> & <dbl> & <dbl> & <int> & <chr> & <dbl> & <dbl> & <dbl> & <dbl>\\\\\n",
       "\\hline\n",
       "\t4951716 & 6 & 161005610 & rs55730499 & C & T & 0.0767556 & 0.997045 & 487275 & ADD & 0.261695 & 0.0122105 & 459.326 & 101.171\\\\\n",
       "\\end{tabular}\n"
      ],
      "text/markdown": [
       "\n",
       "A data.frame: 1 × 13\n",
       "\n",
       "| <!--/--> | CHROM &lt;int&gt; | GENPOS &lt;int&gt; | ID &lt;chr&gt; | ALLELE0 &lt;chr&gt; | ALLELE1 &lt;chr&gt; | A1FREQ &lt;dbl&gt; | INFO &lt;dbl&gt; | N &lt;int&gt; | TEST &lt;chr&gt; | BETA &lt;dbl&gt; | SE &lt;dbl&gt; | CHISQ &lt;dbl&gt; | LOG10P &lt;dbl&gt; |\n",
       "|---|---|---|---|---|---|---|---|---|---|---|---|---|---|\n",
       "| 4951716 | 6 | 161005610 | rs55730499 | C | T | 0.0767556 | 0.997045 | 487275 | ADD | 0.261695 | 0.0122105 | 459.326 | 101.171 |\n",
       "\n"
      ],
      "text/plain": [
       "        CHROM GENPOS    ID         ALLELE0 ALLELE1 A1FREQ    INFO     N     \n",
       "4951716 6     161005610 rs55730499 C       T       0.0767556 0.997045 487275\n",
       "        TEST BETA     SE        CHISQ   LOG10P \n",
       "4951716 ADD  0.261695 0.0122105 459.326 101.171"
      ]
     },
     "metadata": {},
     "output_type": "display_data"
    },
    {
     "data": {
      "text/html": [
       "<table class=\"dataframe\">\n",
       "<caption>A data.frame: 1 × 13</caption>\n",
       "<thead>\n",
       "\t<tr><th></th><th scope=col>SNP</th><th scope=col>CHR</th><th scope=col>POS</th><th scope=col>A1</th><th scope=col>A2</th><th scope=col>REF</th><th scope=col>EAF</th><th scope=col>Beta</th><th scope=col>se</th><th scope=col>P</th><th scope=col>N</th><th scope=col>INFO</th><th scope=col>LOG10P</th></tr>\n",
       "\t<tr><th></th><th scope=col>&lt;chr&gt;</th><th scope=col>&lt;int&gt;</th><th scope=col>&lt;int&gt;</th><th scope=col>&lt;chr&gt;</th><th scope=col>&lt;chr&gt;</th><th scope=col>&lt;chr&gt;</th><th scope=col>&lt;dbl&gt;</th><th scope=col>&lt;dbl&gt;</th><th scope=col>&lt;dbl&gt;</th><th scope=col>&lt;dbl&gt;</th><th scope=col>&lt;int&gt;</th><th scope=col>&lt;dbl&gt;</th><th scope=col>&lt;dbl&gt;</th></tr>\n",
       "</thead>\n",
       "<tbody>\n",
       "\t<tr><th scope=row>5187386</th><td>rs55730499</td><td>6</td><td>161005610</td><td>C</td><td>T</td><td>C</td><td>0.920061</td><td>-0.0345101</td><td>0.00127929</td><td>2.8e-160</td><td>459256</td><td>0.997046</td><td>159.5528</td></tr>\n",
       "</tbody>\n",
       "</table>\n"
      ],
      "text/latex": [
       "A data.frame: 1 × 13\n",
       "\\begin{tabular}{r|lllllllllllll}\n",
       "  & SNP & CHR & POS & A1 & A2 & REF & EAF & Beta & se & P & N & INFO & LOG10P\\\\\n",
       "  & <chr> & <int> & <int> & <chr> & <chr> & <chr> & <dbl> & <dbl> & <dbl> & <dbl> & <int> & <dbl> & <dbl>\\\\\n",
       "\\hline\n",
       "\t5187386 & rs55730499 & 6 & 161005610 & C & T & C & 0.920061 & -0.0345101 & 0.00127929 & 2.8e-160 & 459256 & 0.997046 & 159.5528\\\\\n",
       "\\end{tabular}\n"
      ],
      "text/markdown": [
       "\n",
       "A data.frame: 1 × 13\n",
       "\n",
       "| <!--/--> | SNP &lt;chr&gt; | CHR &lt;int&gt; | POS &lt;int&gt; | A1 &lt;chr&gt; | A2 &lt;chr&gt; | REF &lt;chr&gt; | EAF &lt;dbl&gt; | Beta &lt;dbl&gt; | se &lt;dbl&gt; | P &lt;dbl&gt; | N &lt;int&gt; | INFO &lt;dbl&gt; | LOG10P &lt;dbl&gt; |\n",
       "|---|---|---|---|---|---|---|---|---|---|---|---|---|---|\n",
       "| 5187386 | rs55730499 | 6 | 161005610 | C | T | C | 0.920061 | -0.0345101 | 0.00127929 | 2.8e-160 | 459256 | 0.997046 | 159.5528 |\n",
       "\n"
      ],
      "text/plain": [
       "        SNP        CHR POS       A1 A2 REF EAF      Beta       se        \n",
       "5187386 rs55730499 6   161005610 C  T  C   0.920061 -0.0345101 0.00127929\n",
       "        P        N      INFO     LOG10P  \n",
       "5187386 2.8e-160 459256 0.997046 159.5528"
      ]
     },
     "metadata": {},
     "output_type": "display_data"
    }
   ],
   "source": [
    "data[data$ID == 'rs55730499',]\n",
    "data2[data2$LOG10P == max(data2$LOG10P),]"
   ]
  },
  {
   "cell_type": "code",
   "execution_count": 42,
   "metadata": {},
   "outputs": [
    {
     "data": {
      "text/html": [
       "<table class=\"dataframe\">\n",
       "<caption>A data.frame: 10 × 13</caption>\n",
       "<thead>\n",
       "\t<tr><th></th><th scope=col>CHROM</th><th scope=col>GENPOS</th><th scope=col>ID</th><th scope=col>ALLELE0</th><th scope=col>ALLELE1</th><th scope=col>A1FREQ</th><th scope=col>INFO</th><th scope=col>N</th><th scope=col>TEST</th><th scope=col>BETA</th><th scope=col>SE</th><th scope=col>CHISQ</th><th scope=col>LOG10P</th></tr>\n",
       "\t<tr><th></th><th scope=col>&lt;int&gt;</th><th scope=col>&lt;int&gt;</th><th scope=col>&lt;chr&gt;</th><th scope=col>&lt;chr&gt;</th><th scope=col>&lt;chr&gt;</th><th scope=col>&lt;dbl&gt;</th><th scope=col>&lt;dbl&gt;</th><th scope=col>&lt;int&gt;</th><th scope=col>&lt;chr&gt;</th><th scope=col>&lt;dbl&gt;</th><th scope=col>&lt;dbl&gt;</th><th scope=col>&lt;dbl&gt;</th><th scope=col>&lt;dbl&gt;</th></tr>\n",
       "</thead>\n",
       "<tbody>\n",
       "\t<tr><th scope=row>29</th><td>1</td><td> 49298</td><td>rs10399793 </td><td>T</td><td>C</td><td>0.62282700</td><td>0.342805</td><td>487275</td><td>ADD</td><td>-0.00218282</td><td>0.0115142</td><td>0.0359392</td><td>0.0707645</td></tr>\n",
       "\t<tr><th scope=row>36</th><td>1</td><td> 54676</td><td>rs2462492  </td><td>C</td><td>T</td><td>0.39405000</td><td>0.340163</td><td>487275</td><td>ADD</td><td> 0.01699230</td><td>0.0114607</td><td>2.1982600</td><td>0.8595960</td></tr>\n",
       "\t<tr><th scope=row>42</th><td>1</td><td> 55326</td><td>rs3107975  </td><td>T</td><td>C</td><td>0.00900671</td><td>0.324264</td><td>487275</td><td>ADD</td><td>-0.01199370</td><td>0.0609246</td><td>0.0387542</td><td>0.0736903</td></tr>\n",
       "\t<tr><th scope=row>92</th><td>1</td><td> 86028</td><td>rs114608975</td><td>T</td><td>C</td><td>0.10171200</td><td>0.340886</td><td>487275</td><td>ADD</td><td> 0.00725415</td><td>0.0183431</td><td>0.1563970</td><td>0.1595830</td></tr>\n",
       "\t<tr><th scope=row>120</th><td>1</td><td> 91536</td><td>rs6702460  </td><td>G</td><td>T</td><td>0.45111500</td><td>0.340754</td><td>487275</td><td>ADD</td><td> 0.01109500</td><td>0.0112732</td><td>0.9686270</td><td>0.4880860</td></tr>\n",
       "\t<tr><th scope=row>159</th><td>1</td><td>234313</td><td>rs8179466  </td><td>C</td><td>T</td><td>0.07380280</td><td>0.311461</td><td>487275</td><td>ADD</td><td>-0.03158000</td><td>0.0222313</td><td>2.0178800</td><td>0.8083920</td></tr>\n",
       "\t<tr><th scope=row>181</th><td>1</td><td>526736</td><td>rs28863004 </td><td>C</td><td>G</td><td>0.00848210</td><td>0.396069</td><td>487275</td><td>ADD</td><td>-0.02956140</td><td>0.0612804</td><td>0.2327060</td><td>0.2009870</td></tr>\n",
       "\t<tr><th scope=row>193</th><td>1</td><td>534192</td><td>rs6680723  </td><td>C</td><td>T</td><td>0.23978300</td><td>0.349849</td><td>487275</td><td>ADD</td><td> 0.01329760</td><td>0.0128387</td><td>1.0727800</td><td>0.5224180</td></tr>\n",
       "\t<tr><th scope=row>195</th><td>1</td><td>534583</td><td>rs6683466  </td><td>C</td><td>G</td><td>0.00779110</td><td>0.345241</td><td>487275</td><td>ADD</td><td> 0.09791540</td><td>0.0631170</td><td>2.4066300</td><td>0.9178530</td></tr>\n",
       "\t<tr><th scope=row>206</th><td>1</td><td>546697</td><td>rs12025928 </td><td>A</td><td>G</td><td>0.91557500</td><td>0.517634</td><td>487275</td><td>ADD</td><td> 0.02258960</td><td>0.0162647</td><td>1.9289700</td><td>0.7828540</td></tr>\n",
       "</tbody>\n",
       "</table>\n"
      ],
      "text/latex": [
       "A data.frame: 10 × 13\n",
       "\\begin{tabular}{r|lllllllllllll}\n",
       "  & CHROM & GENPOS & ID & ALLELE0 & ALLELE1 & A1FREQ & INFO & N & TEST & BETA & SE & CHISQ & LOG10P\\\\\n",
       "  & <int> & <int> & <chr> & <chr> & <chr> & <dbl> & <dbl> & <int> & <chr> & <dbl> & <dbl> & <dbl> & <dbl>\\\\\n",
       "\\hline\n",
       "\t29 & 1 &  49298 & rs10399793  & T & C & 0.62282700 & 0.342805 & 487275 & ADD & -0.00218282 & 0.0115142 & 0.0359392 & 0.0707645\\\\\n",
       "\t36 & 1 &  54676 & rs2462492   & C & T & 0.39405000 & 0.340163 & 487275 & ADD &  0.01699230 & 0.0114607 & 2.1982600 & 0.8595960\\\\\n",
       "\t42 & 1 &  55326 & rs3107975   & T & C & 0.00900671 & 0.324264 & 487275 & ADD & -0.01199370 & 0.0609246 & 0.0387542 & 0.0736903\\\\\n",
       "\t92 & 1 &  86028 & rs114608975 & T & C & 0.10171200 & 0.340886 & 487275 & ADD &  0.00725415 & 0.0183431 & 0.1563970 & 0.1595830\\\\\n",
       "\t120 & 1 &  91536 & rs6702460   & G & T & 0.45111500 & 0.340754 & 487275 & ADD &  0.01109500 & 0.0112732 & 0.9686270 & 0.4880860\\\\\n",
       "\t159 & 1 & 234313 & rs8179466   & C & T & 0.07380280 & 0.311461 & 487275 & ADD & -0.03158000 & 0.0222313 & 2.0178800 & 0.8083920\\\\\n",
       "\t181 & 1 & 526736 & rs28863004  & C & G & 0.00848210 & 0.396069 & 487275 & ADD & -0.02956140 & 0.0612804 & 0.2327060 & 0.2009870\\\\\n",
       "\t193 & 1 & 534192 & rs6680723   & C & T & 0.23978300 & 0.349849 & 487275 & ADD &  0.01329760 & 0.0128387 & 1.0727800 & 0.5224180\\\\\n",
       "\t195 & 1 & 534583 & rs6683466   & C & G & 0.00779110 & 0.345241 & 487275 & ADD &  0.09791540 & 0.0631170 & 2.4066300 & 0.9178530\\\\\n",
       "\t206 & 1 & 546697 & rs12025928  & A & G & 0.91557500 & 0.517634 & 487275 & ADD &  0.02258960 & 0.0162647 & 1.9289700 & 0.7828540\\\\\n",
       "\\end{tabular}\n"
      ],
      "text/markdown": [
       "\n",
       "A data.frame: 10 × 13\n",
       "\n",
       "| <!--/--> | CHROM &lt;int&gt; | GENPOS &lt;int&gt; | ID &lt;chr&gt; | ALLELE0 &lt;chr&gt; | ALLELE1 &lt;chr&gt; | A1FREQ &lt;dbl&gt; | INFO &lt;dbl&gt; | N &lt;int&gt; | TEST &lt;chr&gt; | BETA &lt;dbl&gt; | SE &lt;dbl&gt; | CHISQ &lt;dbl&gt; | LOG10P &lt;dbl&gt; |\n",
       "|---|---|---|---|---|---|---|---|---|---|---|---|---|---|\n",
       "| 29 | 1 |  49298 | rs10399793  | T | C | 0.62282700 | 0.342805 | 487275 | ADD | -0.00218282 | 0.0115142 | 0.0359392 | 0.0707645 |\n",
       "| 36 | 1 |  54676 | rs2462492   | C | T | 0.39405000 | 0.340163 | 487275 | ADD |  0.01699230 | 0.0114607 | 2.1982600 | 0.8595960 |\n",
       "| 42 | 1 |  55326 | rs3107975   | T | C | 0.00900671 | 0.324264 | 487275 | ADD | -0.01199370 | 0.0609246 | 0.0387542 | 0.0736903 |\n",
       "| 92 | 1 |  86028 | rs114608975 | T | C | 0.10171200 | 0.340886 | 487275 | ADD |  0.00725415 | 0.0183431 | 0.1563970 | 0.1595830 |\n",
       "| 120 | 1 |  91536 | rs6702460   | G | T | 0.45111500 | 0.340754 | 487275 | ADD |  0.01109500 | 0.0112732 | 0.9686270 | 0.4880860 |\n",
       "| 159 | 1 | 234313 | rs8179466   | C | T | 0.07380280 | 0.311461 | 487275 | ADD | -0.03158000 | 0.0222313 | 2.0178800 | 0.8083920 |\n",
       "| 181 | 1 | 526736 | rs28863004  | C | G | 0.00848210 | 0.396069 | 487275 | ADD | -0.02956140 | 0.0612804 | 0.2327060 | 0.2009870 |\n",
       "| 193 | 1 | 534192 | rs6680723   | C | T | 0.23978300 | 0.349849 | 487275 | ADD |  0.01329760 | 0.0128387 | 1.0727800 | 0.5224180 |\n",
       "| 195 | 1 | 534583 | rs6683466   | C | G | 0.00779110 | 0.345241 | 487275 | ADD |  0.09791540 | 0.0631170 | 2.4066300 | 0.9178530 |\n",
       "| 206 | 1 | 546697 | rs12025928  | A | G | 0.91557500 | 0.517634 | 487275 | ADD |  0.02258960 | 0.0162647 | 1.9289700 | 0.7828540 |\n",
       "\n"
      ],
      "text/plain": [
       "    CHROM GENPOS ID          ALLELE0 ALLELE1 A1FREQ     INFO     N      TEST\n",
       "29  1      49298 rs10399793  T       C       0.62282700 0.342805 487275 ADD \n",
       "36  1      54676 rs2462492   C       T       0.39405000 0.340163 487275 ADD \n",
       "42  1      55326 rs3107975   T       C       0.00900671 0.324264 487275 ADD \n",
       "92  1      86028 rs114608975 T       C       0.10171200 0.340886 487275 ADD \n",
       "120 1      91536 rs6702460   G       T       0.45111500 0.340754 487275 ADD \n",
       "159 1     234313 rs8179466   C       T       0.07380280 0.311461 487275 ADD \n",
       "181 1     526736 rs28863004  C       G       0.00848210 0.396069 487275 ADD \n",
       "193 1     534192 rs6680723   C       T       0.23978300 0.349849 487275 ADD \n",
       "195 1     534583 rs6683466   C       G       0.00779110 0.345241 487275 ADD \n",
       "206 1     546697 rs12025928  A       G       0.91557500 0.517634 487275 ADD \n",
       "    BETA        SE        CHISQ     LOG10P   \n",
       "29  -0.00218282 0.0115142 0.0359392 0.0707645\n",
       "36   0.01699230 0.0114607 2.1982600 0.8595960\n",
       "42  -0.01199370 0.0609246 0.0387542 0.0736903\n",
       "92   0.00725415 0.0183431 0.1563970 0.1595830\n",
       "120  0.01109500 0.0112732 0.9686270 0.4880860\n",
       "159 -0.03158000 0.0222313 2.0178800 0.8083920\n",
       "181 -0.02956140 0.0612804 0.2327060 0.2009870\n",
       "193  0.01329760 0.0128387 1.0727800 0.5224180\n",
       "195  0.09791540 0.0631170 2.4066300 0.9178530\n",
       "206  0.02258960 0.0162647 1.9289700 0.7828540"
      ]
     },
     "metadata": {},
     "output_type": "display_data"
    },
    {
     "data": {
      "text/html": [
       "<table class=\"dataframe\">\n",
       "<caption>A data.frame: 10 × 13</caption>\n",
       "<thead>\n",
       "\t<tr><th></th><th scope=col>SNP</th><th scope=col>CHR</th><th scope=col>POS</th><th scope=col>A1</th><th scope=col>A2</th><th scope=col>REF</th><th scope=col>EAF</th><th scope=col>Beta</th><th scope=col>se</th><th scope=col>P</th><th scope=col>N</th><th scope=col>INFO</th><th scope=col>LOG10P</th></tr>\n",
       "\t<tr><th></th><th scope=col>&lt;chr&gt;</th><th scope=col>&lt;int&gt;</th><th scope=col>&lt;int&gt;</th><th scope=col>&lt;chr&gt;</th><th scope=col>&lt;chr&gt;</th><th scope=col>&lt;chr&gt;</th><th scope=col>&lt;dbl&gt;</th><th scope=col>&lt;dbl&gt;</th><th scope=col>&lt;dbl&gt;</th><th scope=col>&lt;dbl&gt;</th><th scope=col>&lt;int&gt;</th><th scope=col>&lt;dbl&gt;</th><th scope=col>&lt;dbl&gt;</th></tr>\n",
       "</thead>\n",
       "<tbody>\n",
       "\t<tr><th scope=row>1</th><td>rs10399793 </td><td>1</td><td> 49298</td><td>T</td><td>C</td><td>T</td><td>0.3762170</td><td> 0.000344000</td><td>0.00122881</td><td>0.780</td><td>459256</td><td>0.342797</td><td>0.10790540</td></tr>\n",
       "\t<tr><th scope=row>2</th><td>rs2462492  </td><td>1</td><td> 54676</td><td>C</td><td>T</td><td>C</td><td>0.5994140</td><td>-0.000822472</td><td>0.00121727</td><td>0.500</td><td>459256</td><td>0.340158</td><td>0.30103000</td></tr>\n",
       "\t<tr><th scope=row>3</th><td>rs3107975  </td><td>1</td><td> 55326</td><td>T</td><td>C</td><td>T</td><td>0.9915510</td><td> 0.012484500</td><td>0.00677626</td><td>0.065</td><td>459256</td><td>0.324228</td><td>1.18708664</td></tr>\n",
       "\t<tr><th scope=row>7</th><td>rs114608975</td><td>1</td><td> 86028</td><td>T</td><td>C</td><td>T</td><td>0.8963850</td><td>-0.000547797</td><td>0.00194574</td><td>0.780</td><td>459256</td><td>0.340885</td><td>0.10790540</td></tr>\n",
       "\t<tr><th scope=row>8</th><td>rs6702460  </td><td>1</td><td> 91536</td><td>G</td><td>T</td><td>G</td><td>0.5430320</td><td>-0.000378279</td><td>0.00119865</td><td>0.750</td><td>459256</td><td>0.340746</td><td>0.12493874</td></tr>\n",
       "\t<tr><th scope=row>9</th><td>rs8179466  </td><td>1</td><td>234313</td><td>C</td><td>T</td><td>C</td><td>0.9254800</td><td> 0.000146056</td><td>0.00236331</td><td>0.950</td><td>459256</td><td>0.311447</td><td>0.02227639</td></tr>\n",
       "\t<tr><th scope=row>10</th><td>rs28863004 </td><td>1</td><td>526736</td><td>C</td><td>G</td><td>C</td><td>0.9939670</td><td> 0.011348000</td><td>0.00792264</td><td>0.150</td><td>459256</td><td>0.396081</td><td>0.82390874</td></tr>\n",
       "\t<tr><th scope=row>12</th><td>rs6680723  </td><td>1</td><td>534192</td><td>C</td><td>T</td><td>C</td><td>0.7589820</td><td> 0.000346098</td><td>0.00136918</td><td>0.800</td><td>459256</td><td>0.349843</td><td>0.09691001</td></tr>\n",
       "\t<tr><th scope=row>13</th><td>rs6683466  </td><td>1</td><td>534583</td><td>C</td><td>G</td><td>C</td><td>0.9933030</td><td>-0.006858530</td><td>0.00774419</td><td>0.380</td><td>459256</td><td>0.345195</td><td>0.42021640</td></tr>\n",
       "\t<tr><th scope=row>15</th><td>rs12025928 </td><td>1</td><td>546697</td><td>A</td><td>G</td><td>A</td><td>0.0865871</td><td>-0.000683367</td><td>0.00170745</td><td>0.690</td><td>459256</td><td>0.517613</td><td>0.16115091</td></tr>\n",
       "</tbody>\n",
       "</table>\n"
      ],
      "text/latex": [
       "A data.frame: 10 × 13\n",
       "\\begin{tabular}{r|lllllllllllll}\n",
       "  & SNP & CHR & POS & A1 & A2 & REF & EAF & Beta & se & P & N & INFO & LOG10P\\\\\n",
       "  & <chr> & <int> & <int> & <chr> & <chr> & <chr> & <dbl> & <dbl> & <dbl> & <dbl> & <int> & <dbl> & <dbl>\\\\\n",
       "\\hline\n",
       "\t1 & rs10399793  & 1 &  49298 & T & C & T & 0.3762170 &  0.000344000 & 0.00122881 & 0.780 & 459256 & 0.342797 & 0.10790540\\\\\n",
       "\t2 & rs2462492   & 1 &  54676 & C & T & C & 0.5994140 & -0.000822472 & 0.00121727 & 0.500 & 459256 & 0.340158 & 0.30103000\\\\\n",
       "\t3 & rs3107975   & 1 &  55326 & T & C & T & 0.9915510 &  0.012484500 & 0.00677626 & 0.065 & 459256 & 0.324228 & 1.18708664\\\\\n",
       "\t7 & rs114608975 & 1 &  86028 & T & C & T & 0.8963850 & -0.000547797 & 0.00194574 & 0.780 & 459256 & 0.340885 & 0.10790540\\\\\n",
       "\t8 & rs6702460   & 1 &  91536 & G & T & G & 0.5430320 & -0.000378279 & 0.00119865 & 0.750 & 459256 & 0.340746 & 0.12493874\\\\\n",
       "\t9 & rs8179466   & 1 & 234313 & C & T & C & 0.9254800 &  0.000146056 & 0.00236331 & 0.950 & 459256 & 0.311447 & 0.02227639\\\\\n",
       "\t10 & rs28863004  & 1 & 526736 & C & G & C & 0.9939670 &  0.011348000 & 0.00792264 & 0.150 & 459256 & 0.396081 & 0.82390874\\\\\n",
       "\t12 & rs6680723   & 1 & 534192 & C & T & C & 0.7589820 &  0.000346098 & 0.00136918 & 0.800 & 459256 & 0.349843 & 0.09691001\\\\\n",
       "\t13 & rs6683466   & 1 & 534583 & C & G & C & 0.9933030 & -0.006858530 & 0.00774419 & 0.380 & 459256 & 0.345195 & 0.42021640\\\\\n",
       "\t15 & rs12025928  & 1 & 546697 & A & G & A & 0.0865871 & -0.000683367 & 0.00170745 & 0.690 & 459256 & 0.517613 & 0.16115091\\\\\n",
       "\\end{tabular}\n"
      ],
      "text/markdown": [
       "\n",
       "A data.frame: 10 × 13\n",
       "\n",
       "| <!--/--> | SNP &lt;chr&gt; | CHR &lt;int&gt; | POS &lt;int&gt; | A1 &lt;chr&gt; | A2 &lt;chr&gt; | REF &lt;chr&gt; | EAF &lt;dbl&gt; | Beta &lt;dbl&gt; | se &lt;dbl&gt; | P &lt;dbl&gt; | N &lt;int&gt; | INFO &lt;dbl&gt; | LOG10P &lt;dbl&gt; |\n",
       "|---|---|---|---|---|---|---|---|---|---|---|---|---|---|\n",
       "| 1 | rs10399793  | 1 |  49298 | T | C | T | 0.3762170 |  0.000344000 | 0.00122881 | 0.780 | 459256 | 0.342797 | 0.10790540 |\n",
       "| 2 | rs2462492   | 1 |  54676 | C | T | C | 0.5994140 | -0.000822472 | 0.00121727 | 0.500 | 459256 | 0.340158 | 0.30103000 |\n",
       "| 3 | rs3107975   | 1 |  55326 | T | C | T | 0.9915510 |  0.012484500 | 0.00677626 | 0.065 | 459256 | 0.324228 | 1.18708664 |\n",
       "| 7 | rs114608975 | 1 |  86028 | T | C | T | 0.8963850 | -0.000547797 | 0.00194574 | 0.780 | 459256 | 0.340885 | 0.10790540 |\n",
       "| 8 | rs6702460   | 1 |  91536 | G | T | G | 0.5430320 | -0.000378279 | 0.00119865 | 0.750 | 459256 | 0.340746 | 0.12493874 |\n",
       "| 9 | rs8179466   | 1 | 234313 | C | T | C | 0.9254800 |  0.000146056 | 0.00236331 | 0.950 | 459256 | 0.311447 | 0.02227639 |\n",
       "| 10 | rs28863004  | 1 | 526736 | C | G | C | 0.9939670 |  0.011348000 | 0.00792264 | 0.150 | 459256 | 0.396081 | 0.82390874 |\n",
       "| 12 | rs6680723   | 1 | 534192 | C | T | C | 0.7589820 |  0.000346098 | 0.00136918 | 0.800 | 459256 | 0.349843 | 0.09691001 |\n",
       "| 13 | rs6683466   | 1 | 534583 | C | G | C | 0.9933030 | -0.006858530 | 0.00774419 | 0.380 | 459256 | 0.345195 | 0.42021640 |\n",
       "| 15 | rs12025928  | 1 | 546697 | A | G | A | 0.0865871 | -0.000683367 | 0.00170745 | 0.690 | 459256 | 0.517613 | 0.16115091 |\n",
       "\n"
      ],
      "text/plain": [
       "   SNP         CHR POS    A1 A2 REF EAF       Beta         se         P    \n",
       "1  rs10399793  1    49298 T  C  T   0.3762170  0.000344000 0.00122881 0.780\n",
       "2  rs2462492   1    54676 C  T  C   0.5994140 -0.000822472 0.00121727 0.500\n",
       "3  rs3107975   1    55326 T  C  T   0.9915510  0.012484500 0.00677626 0.065\n",
       "7  rs114608975 1    86028 T  C  T   0.8963850 -0.000547797 0.00194574 0.780\n",
       "8  rs6702460   1    91536 G  T  G   0.5430320 -0.000378279 0.00119865 0.750\n",
       "9  rs8179466   1   234313 C  T  C   0.9254800  0.000146056 0.00236331 0.950\n",
       "10 rs28863004  1   526736 C  G  C   0.9939670  0.011348000 0.00792264 0.150\n",
       "12 rs6680723   1   534192 C  T  C   0.7589820  0.000346098 0.00136918 0.800\n",
       "13 rs6683466   1   534583 C  G  C   0.9933030 -0.006858530 0.00774419 0.380\n",
       "15 rs12025928  1   546697 A  G  A   0.0865871 -0.000683367 0.00170745 0.690\n",
       "   N      INFO     LOG10P    \n",
       "1  459256 0.342797 0.10790540\n",
       "2  459256 0.340158 0.30103000\n",
       "3  459256 0.324228 1.18708664\n",
       "7  459256 0.340885 0.10790540\n",
       "8  459256 0.340746 0.12493874\n",
       "9  459256 0.311447 0.02227639\n",
       "10 459256 0.396081 0.82390874\n",
       "12 459256 0.349843 0.09691001\n",
       "13 459256 0.345195 0.42021640\n",
       "15 459256 0.517613 0.16115091"
      ]
     },
     "metadata": {},
     "output_type": "display_data"
    }
   ],
   "source": [
    "items <- c(1,2,3,7,8,9,10,12,13,15)\n",
    "ind <- match(data2[items,]$SNP,data$ID)\n",
    "data[ind,]\n",
    "data2[items,]"
   ]
  },
  {
   "cell_type": "code",
   "execution_count": 28,
   "metadata": {},
   "outputs": [
    {
     "data": {
      "text/html": [
       "<table class=\"dataframe\">\n",
       "<caption>A data.frame: 6 × 13</caption>\n",
       "<thead>\n",
       "\t<tr><th></th><th scope=col>SNP</th><th scope=col>CHR</th><th scope=col>POS</th><th scope=col>A1</th><th scope=col>A2</th><th scope=col>REF</th><th scope=col>EAF</th><th scope=col>Beta</th><th scope=col>se</th><th scope=col>P</th><th scope=col>N</th><th scope=col>INFO</th><th scope=col>LOG10P</th></tr>\n",
       "\t<tr><th></th><th scope=col>&lt;chr&gt;</th><th scope=col>&lt;int&gt;</th><th scope=col>&lt;int&gt;</th><th scope=col>&lt;chr&gt;</th><th scope=col>&lt;chr&gt;</th><th scope=col>&lt;chr&gt;</th><th scope=col>&lt;dbl&gt;</th><th scope=col>&lt;dbl&gt;</th><th scope=col>&lt;dbl&gt;</th><th scope=col>&lt;dbl&gt;</th><th scope=col>&lt;int&gt;</th><th scope=col>&lt;dbl&gt;</th><th scope=col>&lt;dbl&gt;</th></tr>\n",
       "</thead>\n",
       "<tbody>\n",
       "\t<tr><th scope=row>1</th><td>rs10399793 </td><td>1</td><td>49298</td><td>T</td><td>C</td><td>T</td><td>0.37621700</td><td> 0.000344000</td><td>0.00122881</td><td>0.780</td><td>459256</td><td>0.342797</td><td>0.1079054</td></tr>\n",
       "\t<tr><th scope=row>2</th><td>rs2462492  </td><td>1</td><td>54676</td><td>C</td><td>T</td><td>C</td><td>0.59941400</td><td>-0.000822472</td><td>0.00121727</td><td>0.500</td><td>459256</td><td>0.340158</td><td>0.3010300</td></tr>\n",
       "\t<tr><th scope=row>3</th><td>rs3107975  </td><td>1</td><td>55326</td><td>T</td><td>C</td><td>T</td><td>0.99155100</td><td> 0.012484500</td><td>0.00677626</td><td>0.065</td><td>459256</td><td>0.324228</td><td>1.1870866</td></tr>\n",
       "\t<tr><th scope=row>4</th><td>rs74447903 </td><td>1</td><td>57033</td><td>T</td><td>C</td><td>T</td><td>0.99822100</td><td>-0.020341800</td><td>0.01508080</td><td>0.180</td><td>459256</td><td>0.296256</td><td>0.7447275</td></tr>\n",
       "\t<tr><th scope=row>5</th><td>1:70728_C_T</td><td>1</td><td>70728</td><td>C</td><td>T</td><td>C</td><td>0.99783400</td><td> 0.016609800</td><td>0.01226740</td><td>0.180</td><td>459256</td><td>0.365713</td><td>0.7447275</td></tr>\n",
       "\t<tr><th scope=row>6</th><td>rs2462495  </td><td>1</td><td>79033</td><td>A</td><td>G</td><td>A</td><td>0.00129077</td><td>-0.016347700</td><td>0.01561460</td><td>0.300</td><td>459256</td><td>0.536566</td><td>0.5228787</td></tr>\n",
       "</tbody>\n",
       "</table>\n"
      ],
      "text/latex": [
       "A data.frame: 6 × 13\n",
       "\\begin{tabular}{r|lllllllllllll}\n",
       "  & SNP & CHR & POS & A1 & A2 & REF & EAF & Beta & se & P & N & INFO & LOG10P\\\\\n",
       "  & <chr> & <int> & <int> & <chr> & <chr> & <chr> & <dbl> & <dbl> & <dbl> & <dbl> & <int> & <dbl> & <dbl>\\\\\n",
       "\\hline\n",
       "\t1 & rs10399793  & 1 & 49298 & T & C & T & 0.37621700 &  0.000344000 & 0.00122881 & 0.780 & 459256 & 0.342797 & 0.1079054\\\\\n",
       "\t2 & rs2462492   & 1 & 54676 & C & T & C & 0.59941400 & -0.000822472 & 0.00121727 & 0.500 & 459256 & 0.340158 & 0.3010300\\\\\n",
       "\t3 & rs3107975   & 1 & 55326 & T & C & T & 0.99155100 &  0.012484500 & 0.00677626 & 0.065 & 459256 & 0.324228 & 1.1870866\\\\\n",
       "\t4 & rs74447903  & 1 & 57033 & T & C & T & 0.99822100 & -0.020341800 & 0.01508080 & 0.180 & 459256 & 0.296256 & 0.7447275\\\\\n",
       "\t5 & 1:70728\\_C\\_T & 1 & 70728 & C & T & C & 0.99783400 &  0.016609800 & 0.01226740 & 0.180 & 459256 & 0.365713 & 0.7447275\\\\\n",
       "\t6 & rs2462495   & 1 & 79033 & A & G & A & 0.00129077 & -0.016347700 & 0.01561460 & 0.300 & 459256 & 0.536566 & 0.5228787\\\\\n",
       "\\end{tabular}\n"
      ],
      "text/markdown": [
       "\n",
       "A data.frame: 6 × 13\n",
       "\n",
       "| <!--/--> | SNP &lt;chr&gt; | CHR &lt;int&gt; | POS &lt;int&gt; | A1 &lt;chr&gt; | A2 &lt;chr&gt; | REF &lt;chr&gt; | EAF &lt;dbl&gt; | Beta &lt;dbl&gt; | se &lt;dbl&gt; | P &lt;dbl&gt; | N &lt;int&gt; | INFO &lt;dbl&gt; | LOG10P &lt;dbl&gt; |\n",
       "|---|---|---|---|---|---|---|---|---|---|---|---|---|---|\n",
       "| 1 | rs10399793  | 1 | 49298 | T | C | T | 0.37621700 |  0.000344000 | 0.00122881 | 0.780 | 459256 | 0.342797 | 0.1079054 |\n",
       "| 2 | rs2462492   | 1 | 54676 | C | T | C | 0.59941400 | -0.000822472 | 0.00121727 | 0.500 | 459256 | 0.340158 | 0.3010300 |\n",
       "| 3 | rs3107975   | 1 | 55326 | T | C | T | 0.99155100 |  0.012484500 | 0.00677626 | 0.065 | 459256 | 0.324228 | 1.1870866 |\n",
       "| 4 | rs74447903  | 1 | 57033 | T | C | T | 0.99822100 | -0.020341800 | 0.01508080 | 0.180 | 459256 | 0.296256 | 0.7447275 |\n",
       "| 5 | 1:70728_C_T | 1 | 70728 | C | T | C | 0.99783400 |  0.016609800 | 0.01226740 | 0.180 | 459256 | 0.365713 | 0.7447275 |\n",
       "| 6 | rs2462495   | 1 | 79033 | A | G | A | 0.00129077 | -0.016347700 | 0.01561460 | 0.300 | 459256 | 0.536566 | 0.5228787 |\n",
       "\n"
      ],
      "text/plain": [
       "  SNP         CHR POS   A1 A2 REF EAF        Beta         se         P    \n",
       "1 rs10399793  1   49298 T  C  T   0.37621700  0.000344000 0.00122881 0.780\n",
       "2 rs2462492   1   54676 C  T  C   0.59941400 -0.000822472 0.00121727 0.500\n",
       "3 rs3107975   1   55326 T  C  T   0.99155100  0.012484500 0.00677626 0.065\n",
       "4 rs74447903  1   57033 T  C  T   0.99822100 -0.020341800 0.01508080 0.180\n",
       "5 1:70728_C_T 1   70728 C  T  C   0.99783400  0.016609800 0.01226740 0.180\n",
       "6 rs2462495   1   79033 A  G  A   0.00129077 -0.016347700 0.01561460 0.300\n",
       "  N      INFO     LOG10P   \n",
       "1 459256 0.342797 0.1079054\n",
       "2 459256 0.340158 0.3010300\n",
       "3 459256 0.324228 1.1870866\n",
       "4 459256 0.296256 0.7447275\n",
       "5 459256 0.365713 0.7447275\n",
       "6 459256 0.536566 0.5228787"
      ]
     },
     "metadata": {},
     "output_type": "display_data"
    }
   ],
   "source": [
    "data2 <- read.csv('CAD.sumstats',sep='\\t')\n",
    "data2$LOG10P <- -log10(data2$P)\n",
    "head(data2)"
   ]
  },
  {
   "cell_type": "code",
   "execution_count": 17,
   "metadata": {},
   "outputs": [
    {
     "data": {
      "text/html": [
       "5.12977937526742"
      ],
      "text/latex": [
       "5.12977937526742"
      ],
      "text/markdown": [
       "5.12977937526742"
      ],
      "text/plain": [
       "[1] 5.129779"
      ]
     },
     "metadata": {},
     "output_type": "display_data"
    }
   ],
   "source": [
    "mean(abs(data[,'BETA']))/mean(abs(data2[,'Beta']))"
   ]
  },
  {
   "cell_type": "code",
   "execution_count": 3,
   "metadata": {},
   "outputs": [],
   "source": [
    "data$P <- 10 ^(-1 * data$LOG10P)\n",
    "data$A0FREQ <- 1 - data$A1FREQ\n",
    "data <- data[c('ID','ALLELE1','ALLELE0','A1FREQ','BETA','SE','P','N')]"
   ]
  },
  {
   "cell_type": "code",
   "execution_count": 4,
   "metadata": {},
   "outputs": [
    {
     "data": {
      "text/html": [
       "<style>\n",
       ".list-inline {list-style: none; margin:0; padding: 0}\n",
       ".list-inline>li {display: inline-block}\n",
       ".list-inline>li:not(:last-child)::after {content: \"\\00b7\"; padding: 0 .5ex}\n",
       "</style>\n",
       "<ol class=list-inline><li>'ID'</li><li>'ALLELE1'</li><li>'ALLELE0'</li><li>'A1FREQ'</li><li>'BETA'</li><li>'SE'</li><li>'P'</li><li>'N'</li></ol>\n"
      ],
      "text/latex": [
       "\\begin{enumerate*}\n",
       "\\item 'ID'\n",
       "\\item 'ALLELE1'\n",
       "\\item 'ALLELE0'\n",
       "\\item 'A1FREQ'\n",
       "\\item 'BETA'\n",
       "\\item 'SE'\n",
       "\\item 'P'\n",
       "\\item 'N'\n",
       "\\end{enumerate*}\n"
      ],
      "text/markdown": [
       "1. 'ID'\n",
       "2. 'ALLELE1'\n",
       "3. 'ALLELE0'\n",
       "4. 'A1FREQ'\n",
       "5. 'BETA'\n",
       "6. 'SE'\n",
       "7. 'P'\n",
       "8. 'N'\n",
       "\n",
       "\n"
      ],
      "text/plain": [
       "[1] \"ID\"      \"ALLELE1\" \"ALLELE0\" \"A1FREQ\"  \"BETA\"    \"SE\"      \"P\"      \n",
       "[8] \"N\"      "
      ]
     },
     "metadata": {},
     "output_type": "display_data"
    }
   ],
   "source": [
    "names(data)"
   ]
  },
  {
   "cell_type": "code",
   "execution_count": 5,
   "metadata": {},
   "outputs": [
    {
     "data": {
      "text/html": [
       "<table class=\"dataframe\">\n",
       "<caption>A data.frame: 6 × 8</caption>\n",
       "<thead>\n",
       "\t<tr><th></th><th scope=col>SNP</th><th scope=col>A1</th><th scope=col>A2</th><th scope=col>freq</th><th scope=col>b</th><th scope=col>p</th><th scope=col>N</th><th scope=col>NA</th></tr>\n",
       "\t<tr><th></th><th scope=col>&lt;chr&gt;</th><th scope=col>&lt;chr&gt;</th><th scope=col>&lt;chr&gt;</th><th scope=col>&lt;dbl&gt;</th><th scope=col>&lt;dbl&gt;</th><th scope=col>&lt;dbl&gt;</th><th scope=col>&lt;dbl&gt;</th><th scope=col>&lt;int&gt;</th></tr>\n",
       "</thead>\n",
       "<tbody>\n",
       "\t<tr><th scope=row>1</th><td>rs367896724                     </td><td>AC</td><td>A                     </td><td>0.4007830</td><td>-0.00713639</td><td>0.00968069</td><td>0.4610139</td><td>487275</td></tr>\n",
       "\t<tr><th scope=row>2</th><td>rs201106462                     </td><td>TA</td><td>T                     </td><td>0.3946190</td><td> 0.00733421</td><td>0.00994752</td><td>0.4609459</td><td>487275</td></tr>\n",
       "\t<tr><th scope=row>3</th><td>1:10616_CCGCCGTTGCAAAGGCGCGCCG_C</td><td>C </td><td>CCGCCGTTGCAAAGGCGCGCCG</td><td>0.9941670</td><td>-0.06065190</td><td>0.06204040</td><td>0.3282630</td><td>487275</td></tr>\n",
       "\t<tr><th scope=row>4</th><td>rs575272151                     </td><td>G </td><td>C                     </td><td>0.0865920</td><td>-0.01191050</td><td>0.01643370</td><td>0.4685997</td><td>487275</td></tr>\n",
       "\t<tr><th scope=row>5</th><td>rs544419019                     </td><td>G </td><td>C                     </td><td>0.0865920</td><td>-0.01191050</td><td>0.01643370</td><td>0.4685997</td><td>487275</td></tr>\n",
       "\t<tr><th scope=row>6</th><td>rs540538026                     </td><td>A </td><td>G                     </td><td>0.0572374</td><td>-0.00217351</td><td>0.02227290</td><td>0.9222613</td><td>487275</td></tr>\n",
       "</tbody>\n",
       "</table>\n"
      ],
      "text/latex": [
       "A data.frame: 6 × 8\n",
       "\\begin{tabular}{r|llllllll}\n",
       "  & SNP & A1 & A2 & freq & b & p & N & NA\\\\\n",
       "  & <chr> & <chr> & <chr> & <dbl> & <dbl> & <dbl> & <dbl> & <int>\\\\\n",
       "\\hline\n",
       "\t1 & rs367896724                      & AC & A                      & 0.4007830 & -0.00713639 & 0.00968069 & 0.4610139 & 487275\\\\\n",
       "\t2 & rs201106462                      & TA & T                      & 0.3946190 &  0.00733421 & 0.00994752 & 0.4609459 & 487275\\\\\n",
       "\t3 & 1:10616\\_CCGCCGTTGCAAAGGCGCGCCG\\_C & C  & CCGCCGTTGCAAAGGCGCGCCG & 0.9941670 & -0.06065190 & 0.06204040 & 0.3282630 & 487275\\\\\n",
       "\t4 & rs575272151                      & G  & C                      & 0.0865920 & -0.01191050 & 0.01643370 & 0.4685997 & 487275\\\\\n",
       "\t5 & rs544419019                      & G  & C                      & 0.0865920 & -0.01191050 & 0.01643370 & 0.4685997 & 487275\\\\\n",
       "\t6 & rs540538026                      & A  & G                      & 0.0572374 & -0.00217351 & 0.02227290 & 0.9222613 & 487275\\\\\n",
       "\\end{tabular}\n"
      ],
      "text/markdown": [
       "\n",
       "A data.frame: 6 × 8\n",
       "\n",
       "| <!--/--> | SNP &lt;chr&gt; | A1 &lt;chr&gt; | A2 &lt;chr&gt; | freq &lt;dbl&gt; | b &lt;dbl&gt; | p &lt;dbl&gt; | N &lt;dbl&gt; | NA &lt;int&gt; |\n",
       "|---|---|---|---|---|---|---|---|---|\n",
       "| 1 | rs367896724                      | AC | A                      | 0.4007830 | -0.00713639 | 0.00968069 | 0.4610139 | 487275 |\n",
       "| 2 | rs201106462                      | TA | T                      | 0.3946190 |  0.00733421 | 0.00994752 | 0.4609459 | 487275 |\n",
       "| 3 | 1:10616_CCGCCGTTGCAAAGGCGCGCCG_C | C  | CCGCCGTTGCAAAGGCGCGCCG | 0.9941670 | -0.06065190 | 0.06204040 | 0.3282630 | 487275 |\n",
       "| 4 | rs575272151                      | G  | C                      | 0.0865920 | -0.01191050 | 0.01643370 | 0.4685997 | 487275 |\n",
       "| 5 | rs544419019                      | G  | C                      | 0.0865920 | -0.01191050 | 0.01643370 | 0.4685997 | 487275 |\n",
       "| 6 | rs540538026                      | A  | G                      | 0.0572374 | -0.00217351 | 0.02227290 | 0.9222613 | 487275 |\n",
       "\n"
      ],
      "text/plain": [
       "  SNP                              A1 A2                     freq     \n",
       "1 rs367896724                      AC A                      0.4007830\n",
       "2 rs201106462                      TA T                      0.3946190\n",
       "3 1:10616_CCGCCGTTGCAAAGGCGCGCCG_C C  CCGCCGTTGCAAAGGCGCGCCG 0.9941670\n",
       "4 rs575272151                      G  C                      0.0865920\n",
       "5 rs544419019                      G  C                      0.0865920\n",
       "6 rs540538026                      A  G                      0.0572374\n",
       "  b           p          N         <NA>  \n",
       "1 -0.00713639 0.00968069 0.4610139 487275\n",
       "2  0.00733421 0.00994752 0.4609459 487275\n",
       "3 -0.06065190 0.06204040 0.3282630 487275\n",
       "4 -0.01191050 0.01643370 0.4685997 487275\n",
       "5 -0.01191050 0.01643370 0.4685997 487275\n",
       "6 -0.00217351 0.02227290 0.9222613 487275"
      ]
     },
     "metadata": {},
     "output_type": "display_data"
    }
   ],
   "source": [
    "names(data) <- c('SNP','A1','A2','freq','b','p','N')\n",
    "head(data)"
   ]
  },
  {
   "cell_type": "code",
   "execution_count": 6,
   "metadata": {},
   "outputs": [],
   "source": [
    "write.table(data, 'exBTs_regenie_phenoCol1_SPA_CADComp.regenie.for_SBayesR.stats', quote = FALSE, row.names = FALSE)"
   ]
  },
  {
   "cell_type": "code",
   "execution_count": null,
   "metadata": {},
   "outputs": [],
   "source": []
  }
 ],
 "metadata": {
  "kernelspec": {
   "display_name": "R",
   "language": "R",
   "name": "ir"
  },
  "language_info": {
   "codemirror_mode": "r",
   "file_extension": ".r",
   "mimetype": "text/x-r-source",
   "name": "R",
   "pygments_lexer": "r",
   "version": "4.0.0"
  }
 },
 "nbformat": 4,
 "nbformat_minor": 4
}
