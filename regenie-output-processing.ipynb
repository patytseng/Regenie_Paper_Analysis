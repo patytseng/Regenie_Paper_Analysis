{
 "cells": [
  {
   "cell_type": "code",
   "execution_count": 1,
   "metadata": {},
   "outputs": [
    {
     "name": "stderr",
     "output_type": "stream",
     "text": [
      "Loading required package: bigstatsr\n",
      "\n"
     ]
    }
   ],
   "source": [
    "library(bigsnpr)\n",
    "library(tidyr)"
   ]
  },
  {
   "cell_type": "code",
   "execution_count": 2,
   "metadata": {},
   "outputs": [
    {
     "data": {
      "text/html": [
       "<style>\n",
       ".list-inline {list-style: none; margin:0; padding: 0}\n",
       ".list-inline>li {display: inline-block}\n",
       ".list-inline>li:not(:last-child)::after {content: \"\\00b7\"; padding: 0 .5ex}\n",
       "</style>\n",
       "<ol class=list-inline><li>'exBTs_regenie_phenoCol1_SPA_chr1_CADComp.regenie'</li><li>'exBTs_regenie_phenoCol1_SPA_chr2_CADComp.regenie'</li><li>'exBTs_regenie_phenoCol1_SPA_chr3_CADComp.regenie'</li><li>'exBTs_regenie_phenoCol1_SPA_chr4_CADComp.regenie'</li><li>'exBTs_regenie_phenoCol1_SPA_chr5_CADComp.regenie'</li><li>'exBTs_regenie_phenoCol1_SPA_chr6_CADComp.regenie'</li><li>'exBTs_regenie_phenoCol1_SPA_chr7_CADComp.regenie'</li><li>'exBTs_regenie_phenoCol1_SPA_chr8_CADComp.regenie'</li><li>'exBTs_regenie_phenoCol1_SPA_chr9_CADComp.regenie'</li><li>'exBTs_regenie_phenoCol1_SPA_chr10_CADComp.regenie'</li><li>'exBTs_regenie_phenoCol1_SPA_chr11_CADComp.regenie'</li><li>'exBTs_regenie_phenoCol1_SPA_chr12_CADComp.regenie'</li><li>'exBTs_regenie_phenoCol1_SPA_chr13_CADComp.regenie'</li><li>'exBTs_regenie_phenoCol1_SPA_chr14_CADComp.regenie'</li><li>'exBTs_regenie_phenoCol1_SPA_chr15_CADComp.regenie'</li><li>'exBTs_regenie_phenoCol1_SPA_chr16_CADComp.regenie'</li><li>'exBTs_regenie_phenoCol1_SPA_chr17_CADComp.regenie'</li><li>'exBTs_regenie_phenoCol1_SPA_chr18_CADComp.regenie'</li><li>'exBTs_regenie_phenoCol1_SPA_chr19_CADComp.regenie'</li><li>'exBTs_regenie_phenoCol1_SPA_chr20_CADComp.regenie'</li><li>'exBTs_regenie_phenoCol1_SPA_chr21_CADComp.regenie'</li><li>'exBTs_regenie_phenoCol1_SPA_chr22_CADComp.regenie'</li></ol>\n"
      ],
      "text/latex": [
       "\\begin{enumerate*}\n",
       "\\item 'exBTs\\_regenie\\_phenoCol1\\_SPA\\_chr1\\_CADComp.regenie'\n",
       "\\item 'exBTs\\_regenie\\_phenoCol1\\_SPA\\_chr2\\_CADComp.regenie'\n",
       "\\item 'exBTs\\_regenie\\_phenoCol1\\_SPA\\_chr3\\_CADComp.regenie'\n",
       "\\item 'exBTs\\_regenie\\_phenoCol1\\_SPA\\_chr4\\_CADComp.regenie'\n",
       "\\item 'exBTs\\_regenie\\_phenoCol1\\_SPA\\_chr5\\_CADComp.regenie'\n",
       "\\item 'exBTs\\_regenie\\_phenoCol1\\_SPA\\_chr6\\_CADComp.regenie'\n",
       "\\item 'exBTs\\_regenie\\_phenoCol1\\_SPA\\_chr7\\_CADComp.regenie'\n",
       "\\item 'exBTs\\_regenie\\_phenoCol1\\_SPA\\_chr8\\_CADComp.regenie'\n",
       "\\item 'exBTs\\_regenie\\_phenoCol1\\_SPA\\_chr9\\_CADComp.regenie'\n",
       "\\item 'exBTs\\_regenie\\_phenoCol1\\_SPA\\_chr10\\_CADComp.regenie'\n",
       "\\item 'exBTs\\_regenie\\_phenoCol1\\_SPA\\_chr11\\_CADComp.regenie'\n",
       "\\item 'exBTs\\_regenie\\_phenoCol1\\_SPA\\_chr12\\_CADComp.regenie'\n",
       "\\item 'exBTs\\_regenie\\_phenoCol1\\_SPA\\_chr13\\_CADComp.regenie'\n",
       "\\item 'exBTs\\_regenie\\_phenoCol1\\_SPA\\_chr14\\_CADComp.regenie'\n",
       "\\item 'exBTs\\_regenie\\_phenoCol1\\_SPA\\_chr15\\_CADComp.regenie'\n",
       "\\item 'exBTs\\_regenie\\_phenoCol1\\_SPA\\_chr16\\_CADComp.regenie'\n",
       "\\item 'exBTs\\_regenie\\_phenoCol1\\_SPA\\_chr17\\_CADComp.regenie'\n",
       "\\item 'exBTs\\_regenie\\_phenoCol1\\_SPA\\_chr18\\_CADComp.regenie'\n",
       "\\item 'exBTs\\_regenie\\_phenoCol1\\_SPA\\_chr19\\_CADComp.regenie'\n",
       "\\item 'exBTs\\_regenie\\_phenoCol1\\_SPA\\_chr20\\_CADComp.regenie'\n",
       "\\item 'exBTs\\_regenie\\_phenoCol1\\_SPA\\_chr21\\_CADComp.regenie'\n",
       "\\item 'exBTs\\_regenie\\_phenoCol1\\_SPA\\_chr22\\_CADComp.regenie'\n",
       "\\end{enumerate*}\n"
      ],
      "text/markdown": [
       "1. 'exBTs_regenie_phenoCol1_SPA_chr1_CADComp.regenie'\n",
       "2. 'exBTs_regenie_phenoCol1_SPA_chr2_CADComp.regenie'\n",
       "3. 'exBTs_regenie_phenoCol1_SPA_chr3_CADComp.regenie'\n",
       "4. 'exBTs_regenie_phenoCol1_SPA_chr4_CADComp.regenie'\n",
       "5. 'exBTs_regenie_phenoCol1_SPA_chr5_CADComp.regenie'\n",
       "6. 'exBTs_regenie_phenoCol1_SPA_chr6_CADComp.regenie'\n",
       "7. 'exBTs_regenie_phenoCol1_SPA_chr7_CADComp.regenie'\n",
       "8. 'exBTs_regenie_phenoCol1_SPA_chr8_CADComp.regenie'\n",
       "9. 'exBTs_regenie_phenoCol1_SPA_chr9_CADComp.regenie'\n",
       "10. 'exBTs_regenie_phenoCol1_SPA_chr10_CADComp.regenie'\n",
       "11. 'exBTs_regenie_phenoCol1_SPA_chr11_CADComp.regenie'\n",
       "12. 'exBTs_regenie_phenoCol1_SPA_chr12_CADComp.regenie'\n",
       "13. 'exBTs_regenie_phenoCol1_SPA_chr13_CADComp.regenie'\n",
       "14. 'exBTs_regenie_phenoCol1_SPA_chr14_CADComp.regenie'\n",
       "15. 'exBTs_regenie_phenoCol1_SPA_chr15_CADComp.regenie'\n",
       "16. 'exBTs_regenie_phenoCol1_SPA_chr16_CADComp.regenie'\n",
       "17. 'exBTs_regenie_phenoCol1_SPA_chr17_CADComp.regenie'\n",
       "18. 'exBTs_regenie_phenoCol1_SPA_chr18_CADComp.regenie'\n",
       "19. 'exBTs_regenie_phenoCol1_SPA_chr19_CADComp.regenie'\n",
       "20. 'exBTs_regenie_phenoCol1_SPA_chr20_CADComp.regenie'\n",
       "21. 'exBTs_regenie_phenoCol1_SPA_chr21_CADComp.regenie'\n",
       "22. 'exBTs_regenie_phenoCol1_SPA_chr22_CADComp.regenie'\n",
       "\n",
       "\n"
      ],
      "text/plain": [
       "exBTs_regenie_phenoCol1_SPA_chr1_CADComp.regenie\n",
       "exBTs_regenie_phenoCol1_SPA_chr2_CADComp.regenie\n",
       "exBTs_regenie_phenoCol1_SPA_chr3_CADComp.regenie\n",
       "exBTs_regenie_phenoCol1_SPA_chr4_CADComp.regenie\n",
       "exBTs_regenie_phenoCol1_SPA_chr5_CADComp.regenie\n",
       "exBTs_regenie_phenoCol1_SPA_chr6_CADComp.regenie\n",
       "exBTs_regenie_phenoCol1_SPA_chr7_CADComp.regenie\n",
       "exBTs_regenie_phenoCol1_SPA_chr8_CADComp.regenie\n",
       "exBTs_regenie_phenoCol1_SPA_chr9_CADComp.regenie\n",
       "exBTs_regenie_phenoCol1_SPA_chr10_CADComp.regenie\n",
       "exBTs_regenie_phenoCol1_SPA_chr11_CADComp.regenie\n",
       "exBTs_regenie_phenoCol1_SPA_chr12_CADComp.regenie\n",
       "exBTs_regenie_phenoCol1_SPA_chr13_CADComp.regenie\n",
       "exBTs_regenie_phenoCol1_SPA_chr14_CADComp.regenie\n",
       "exBTs_regenie_phenoCol1_SPA_chr15_CADComp.regenie\n",
       "exBTs_regenie_phenoCol1_SPA_chr16_CADComp.regenie\n",
       "exBTs_regenie_phenoCol1_SPA_chr17_CADComp.regenie\n",
       "exBTs_regenie_phenoCol1_SPA_chr18_CADComp.regenie\n",
       "exBTs_regenie_phenoCol1_SPA_chr19_CADComp.regenie\n",
       "exBTs_regenie_phenoCol1_SPA_chr20_CADComp.regenie\n",
       "exBTs_regenie_phenoCol1_SPA_chr21_CADComp.regenie\n",
       "exBTs_regenie_phenoCol1_SPA_chr22_CADComp.regenie"
      ]
     },
     "metadata": {},
     "output_type": "display_data"
    }
   ],
   "source": [
    "files <- glue::glue('exBTs_regenie_phenoCol1_SPA_chr{chr}_CADComp.regenie', chr = 1:22)\n",
    "files"
   ]
  },
  {
   "cell_type": "code",
   "execution_count": 3,
   "metadata": {},
   "outputs": [
    {
     "name": "stderr",
     "output_type": "stream",
     "text": [
      "Warning message in file(file, \"rt\"):\n",
      "“cannot open file 'exBTs_regenie_phenoCol1_SPA_chr1_CADComp.regenie': No such file or directory”\n"
     ]
    },
    {
     "ename": "ERROR",
     "evalue": "Error in file(file, \"rt\"): cannot open the connection\n",
     "output_type": "error",
     "traceback": [
      "Error in file(file, \"rt\"): cannot open the connection\nTraceback:\n",
      "1. read.csv(file, sep = \" \")",
      "2. read.table(file = file, header = header, sep = sep, quote = quote, \n .     dec = dec, fill = fill, comment.char = comment.char, ...)",
      "3. file(file, \"rt\")"
     ]
    }
   ],
   "source": [
    "first <- TRUE\n",
    "for (file in files) {\n",
    "    if (first) {\n",
    "        data <- read.csv(file,sep=' ')\n",
    "        first <- FALSE\n",
    "    } else {\n",
    "        data <- rbind(data,read.csv(file,sep=' '))\n",
    "    }\n",
    "}"
   ]
  },
  {
   "cell_type": "code",
   "execution_count": null,
   "metadata": {},
   "outputs": [],
   "source": [
    "head(data)"
   ]
  },
  {
   "cell_type": "code",
   "execution_count": 2,
   "metadata": {},
   "outputs": [
    {
     "data": {
      "text/html": [
       "<table class=\"dataframe\">\n",
       "<caption>A data.frame: 6 × 13</caption>\n",
       "<thead>\n",
       "\t<tr><th></th><th scope=col>CHROM</th><th scope=col>GENPOS</th><th scope=col>ID</th><th scope=col>ALLELE0</th><th scope=col>ALLELE1</th><th scope=col>A1FREQ</th><th scope=col>INFO</th><th scope=col>N</th><th scope=col>TEST</th><th scope=col>BETA</th><th scope=col>SE</th><th scope=col>CHISQ</th><th scope=col>LOG10P</th></tr>\n",
       "\t<tr><th></th><th scope=col>&lt;int&gt;</th><th scope=col>&lt;int&gt;</th><th scope=col>&lt;chr&gt;</th><th scope=col>&lt;chr&gt;</th><th scope=col>&lt;chr&gt;</th><th scope=col>&lt;dbl&gt;</th><th scope=col>&lt;dbl&gt;</th><th scope=col>&lt;int&gt;</th><th scope=col>&lt;chr&gt;</th><th scope=col>&lt;dbl&gt;</th><th scope=col>&lt;dbl&gt;</th><th scope=col>&lt;dbl&gt;</th><th scope=col>&lt;dbl&gt;</th></tr>\n",
       "</thead>\n",
       "<tbody>\n",
       "\t<tr><th scope=row>1</th><td>1</td><td>10177</td><td>rs367896724                     </td><td>A                     </td><td>AC</td><td>0.4007830</td><td>0.467935</td><td>487275</td><td>ADD</td><td>-0.00713639</td><td>0.00968069</td><td>0.54343100</td><td>0.336286</td></tr>\n",
       "\t<tr><th scope=row>2</th><td>1</td><td>10352</td><td>rs201106462                     </td><td>T                     </td><td>TA</td><td>0.3946190</td><td>0.447900</td><td>487275</td><td>ADD</td><td> 0.00733421</td><td>0.00994752</td><td>0.54359600</td><td>0.336350</td></tr>\n",
       "\t<tr><th scope=row>3</th><td>1</td><td>10616</td><td>1:10616_CCGCCGTTGCAAAGGCGCGCCG_C</td><td>CCGCCGTTGCAAAGGCGCGCCG</td><td>C </td><td>0.9941670</td><td>0.468135</td><td>487275</td><td>ADD</td><td>-0.06065190</td><td>0.06204040</td><td>0.95573800</td><td>0.483778</td></tr>\n",
       "\t<tr><th scope=row>4</th><td>1</td><td>11008</td><td>rs575272151                     </td><td>C                     </td><td>G </td><td>0.0865920</td><td>0.495022</td><td>487275</td><td>ADD</td><td>-0.01191050</td><td>0.01643370</td><td>0.52527700</td><td>0.329198</td></tr>\n",
       "\t<tr><th scope=row>5</th><td>1</td><td>11012</td><td>rs544419019                     </td><td>C                     </td><td>G </td><td>0.0865920</td><td>0.495022</td><td>487275</td><td>ADD</td><td>-0.01191050</td><td>0.01643370</td><td>0.52527700</td><td>0.329198</td></tr>\n",
       "\t<tr><th scope=row>6</th><td>1</td><td>13110</td><td>rs540538026                     </td><td>G                     </td><td>A </td><td>0.0572374</td><td>0.391826</td><td>487275</td><td>ADD</td><td>-0.00217351</td><td>0.02227290</td><td>0.00952296</td><td>0.035146</td></tr>\n",
       "</tbody>\n",
       "</table>\n"
      ],
      "text/latex": [
       "A data.frame: 6 × 13\n",
       "\\begin{tabular}{r|lllllllllllll}\n",
       "  & CHROM & GENPOS & ID & ALLELE0 & ALLELE1 & A1FREQ & INFO & N & TEST & BETA & SE & CHISQ & LOG10P\\\\\n",
       "  & <int> & <int> & <chr> & <chr> & <chr> & <dbl> & <dbl> & <int> & <chr> & <dbl> & <dbl> & <dbl> & <dbl>\\\\\n",
       "\\hline\n",
       "\t1 & 1 & 10177 & rs367896724                      & A                      & AC & 0.4007830 & 0.467935 & 487275 & ADD & -0.00713639 & 0.00968069 & 0.54343100 & 0.336286\\\\\n",
       "\t2 & 1 & 10352 & rs201106462                      & T                      & TA & 0.3946190 & 0.447900 & 487275 & ADD &  0.00733421 & 0.00994752 & 0.54359600 & 0.336350\\\\\n",
       "\t3 & 1 & 10616 & 1:10616\\_CCGCCGTTGCAAAGGCGCGCCG\\_C & CCGCCGTTGCAAAGGCGCGCCG & C  & 0.9941670 & 0.468135 & 487275 & ADD & -0.06065190 & 0.06204040 & 0.95573800 & 0.483778\\\\\n",
       "\t4 & 1 & 11008 & rs575272151                      & C                      & G  & 0.0865920 & 0.495022 & 487275 & ADD & -0.01191050 & 0.01643370 & 0.52527700 & 0.329198\\\\\n",
       "\t5 & 1 & 11012 & rs544419019                      & C                      & G  & 0.0865920 & 0.495022 & 487275 & ADD & -0.01191050 & 0.01643370 & 0.52527700 & 0.329198\\\\\n",
       "\t6 & 1 & 13110 & rs540538026                      & G                      & A  & 0.0572374 & 0.391826 & 487275 & ADD & -0.00217351 & 0.02227290 & 0.00952296 & 0.035146\\\\\n",
       "\\end{tabular}\n"
      ],
      "text/markdown": [
       "\n",
       "A data.frame: 6 × 13\n",
       "\n",
       "| <!--/--> | CHROM &lt;int&gt; | GENPOS &lt;int&gt; | ID &lt;chr&gt; | ALLELE0 &lt;chr&gt; | ALLELE1 &lt;chr&gt; | A1FREQ &lt;dbl&gt; | INFO &lt;dbl&gt; | N &lt;int&gt; | TEST &lt;chr&gt; | BETA &lt;dbl&gt; | SE &lt;dbl&gt; | CHISQ &lt;dbl&gt; | LOG10P &lt;dbl&gt; |\n",
       "|---|---|---|---|---|---|---|---|---|---|---|---|---|---|\n",
       "| 1 | 1 | 10177 | rs367896724                      | A                      | AC | 0.4007830 | 0.467935 | 487275 | ADD | -0.00713639 | 0.00968069 | 0.54343100 | 0.336286 |\n",
       "| 2 | 1 | 10352 | rs201106462                      | T                      | TA | 0.3946190 | 0.447900 | 487275 | ADD |  0.00733421 | 0.00994752 | 0.54359600 | 0.336350 |\n",
       "| 3 | 1 | 10616 | 1:10616_CCGCCGTTGCAAAGGCGCGCCG_C | CCGCCGTTGCAAAGGCGCGCCG | C  | 0.9941670 | 0.468135 | 487275 | ADD | -0.06065190 | 0.06204040 | 0.95573800 | 0.483778 |\n",
       "| 4 | 1 | 11008 | rs575272151                      | C                      | G  | 0.0865920 | 0.495022 | 487275 | ADD | -0.01191050 | 0.01643370 | 0.52527700 | 0.329198 |\n",
       "| 5 | 1 | 11012 | rs544419019                      | C                      | G  | 0.0865920 | 0.495022 | 487275 | ADD | -0.01191050 | 0.01643370 | 0.52527700 | 0.329198 |\n",
       "| 6 | 1 | 13110 | rs540538026                      | G                      | A  | 0.0572374 | 0.391826 | 487275 | ADD | -0.00217351 | 0.02227290 | 0.00952296 | 0.035146 |\n",
       "\n"
      ],
      "text/plain": [
       "  CHROM GENPOS ID                               ALLELE0                ALLELE1\n",
       "1 1     10177  rs367896724                      A                      AC     \n",
       "2 1     10352  rs201106462                      T                      TA     \n",
       "3 1     10616  1:10616_CCGCCGTTGCAAAGGCGCGCCG_C CCGCCGTTGCAAAGGCGCGCCG C      \n",
       "4 1     11008  rs575272151                      C                      G      \n",
       "5 1     11012  rs544419019                      C                      G      \n",
       "6 1     13110  rs540538026                      G                      A      \n",
       "  A1FREQ    INFO     N      TEST BETA        SE         CHISQ      LOG10P  \n",
       "1 0.4007830 0.467935 487275 ADD  -0.00713639 0.00968069 0.54343100 0.336286\n",
       "2 0.3946190 0.447900 487275 ADD   0.00733421 0.00994752 0.54359600 0.336350\n",
       "3 0.9941670 0.468135 487275 ADD  -0.06065190 0.06204040 0.95573800 0.483778\n",
       "4 0.0865920 0.495022 487275 ADD  -0.01191050 0.01643370 0.52527700 0.329198\n",
       "5 0.0865920 0.495022 487275 ADD  -0.01191050 0.01643370 0.52527700 0.329198\n",
       "6 0.0572374 0.391826 487275 ADD  -0.00217351 0.02227290 0.00952296 0.035146"
      ]
     },
     "metadata": {},
     "output_type": "display_data"
    }
   ],
   "source": [
    "data <- read.csv('exBTs_regenie_phenoCol1_SPA_CADComp.regenie',sep=' ')\n",
    "head(data)"
   ]
  },
  {
   "cell_type": "code",
   "execution_count": 3,
   "metadata": {},
   "outputs": [],
   "source": [
    "data$P <- 10 ^(-1 * data$LOG10P)\n",
    "data$A0FREQ <- 1 - data$A1FREQ\n",
    "data <- data[c('CHROM','GENPOS','ID','ALLELE0','ALLELE1','A0FREQ','INFO','N','BETA','SE','P')]"
   ]
  },
  {
   "cell_type": "code",
   "execution_count": 4,
   "metadata": {},
   "outputs": [
    {
     "data": {
      "text/html": [
       "<style>\n",
       ".list-inline {list-style: none; margin:0; padding: 0}\n",
       ".list-inline>li {display: inline-block}\n",
       ".list-inline>li:not(:last-child)::after {content: \"\\00b7\"; padding: 0 .5ex}\n",
       "</style>\n",
       "<ol class=list-inline><li>'CHROM'</li><li>'GENPOS'</li><li>'ID'</li><li>'ALLELE0'</li><li>'ALLELE1'</li><li>'A0FREQ'</li><li>'INFO'</li><li>'N'</li><li>'BETA'</li><li>'SE'</li><li>'P'</li></ol>\n"
      ],
      "text/latex": [
       "\\begin{enumerate*}\n",
       "\\item 'CHROM'\n",
       "\\item 'GENPOS'\n",
       "\\item 'ID'\n",
       "\\item 'ALLELE0'\n",
       "\\item 'ALLELE1'\n",
       "\\item 'A0FREQ'\n",
       "\\item 'INFO'\n",
       "\\item 'N'\n",
       "\\item 'BETA'\n",
       "\\item 'SE'\n",
       "\\item 'P'\n",
       "\\end{enumerate*}\n"
      ],
      "text/markdown": [
       "1. 'CHROM'\n",
       "2. 'GENPOS'\n",
       "3. 'ID'\n",
       "4. 'ALLELE0'\n",
       "5. 'ALLELE1'\n",
       "6. 'A0FREQ'\n",
       "7. 'INFO'\n",
       "8. 'N'\n",
       "9. 'BETA'\n",
       "10. 'SE'\n",
       "11. 'P'\n",
       "\n",
       "\n"
      ],
      "text/plain": [
       " [1] \"CHROM\"   \"GENPOS\"  \"ID\"      \"ALLELE0\" \"ALLELE1\" \"A0FREQ\"  \"INFO\"   \n",
       " [8] \"N\"       \"BETA\"    \"SE\"      \"P\"      "
      ]
     },
     "metadata": {},
     "output_type": "display_data"
    }
   ],
   "source": [
    "names(data)"
   ]
  },
  {
   "cell_type": "code",
   "execution_count": 11,
   "metadata": {},
   "outputs": [],
   "source": [
    "data <- data[c('ID','ALLELE1','ALLELE0','BETA','P')]\n",
    "names(data) <- c('ID','A1','A2','BETA','P')"
   ]
  },
  {
   "cell_type": "code",
   "execution_count": 12,
   "metadata": {},
   "outputs": [],
   "source": [
    "write.table(data, 'exBTs_regenie_phenoCol1_SPA_CADComp.regenie.for_PRScs', quote = FALSE, row.names = FALSE)"
   ]
  },
  {
   "cell_type": "code",
   "execution_count": 13,
   "metadata": {},
   "outputs": [
    {
     "data": {
      "text/html": [
       "<table class=\"dataframe\">\n",
       "<caption>A data.frame: 6 × 5</caption>\n",
       "<thead>\n",
       "\t<tr><th></th><th scope=col>ID</th><th scope=col>A1</th><th scope=col>A2</th><th scope=col>BETA</th><th scope=col>P</th></tr>\n",
       "\t<tr><th></th><th scope=col>&lt;chr&gt;</th><th scope=col>&lt;chr&gt;</th><th scope=col>&lt;chr&gt;</th><th scope=col>&lt;dbl&gt;</th><th scope=col>&lt;dbl&gt;</th></tr>\n",
       "</thead>\n",
       "<tbody>\n",
       "\t<tr><th scope=row>1</th><td>rs367896724                     </td><td>AC</td><td>A                     </td><td>-0.00713639</td><td>0.4610139</td></tr>\n",
       "\t<tr><th scope=row>2</th><td>rs201106462                     </td><td>TA</td><td>T                     </td><td> 0.00733421</td><td>0.4609459</td></tr>\n",
       "\t<tr><th scope=row>3</th><td>1:10616_CCGCCGTTGCAAAGGCGCGCCG_C</td><td>C </td><td>CCGCCGTTGCAAAGGCGCGCCG</td><td>-0.06065190</td><td>0.3282630</td></tr>\n",
       "\t<tr><th scope=row>4</th><td>rs575272151                     </td><td>G </td><td>C                     </td><td>-0.01191050</td><td>0.4685997</td></tr>\n",
       "\t<tr><th scope=row>5</th><td>rs544419019                     </td><td>G </td><td>C                     </td><td>-0.01191050</td><td>0.4685997</td></tr>\n",
       "\t<tr><th scope=row>6</th><td>rs540538026                     </td><td>A </td><td>G                     </td><td>-0.00217351</td><td>0.9222613</td></tr>\n",
       "</tbody>\n",
       "</table>\n"
      ],
      "text/latex": [
       "A data.frame: 6 × 5\n",
       "\\begin{tabular}{r|lllll}\n",
       "  & ID & A1 & A2 & BETA & P\\\\\n",
       "  & <chr> & <chr> & <chr> & <dbl> & <dbl>\\\\\n",
       "\\hline\n",
       "\t1 & rs367896724                      & AC & A                      & -0.00713639 & 0.4610139\\\\\n",
       "\t2 & rs201106462                      & TA & T                      &  0.00733421 & 0.4609459\\\\\n",
       "\t3 & 1:10616\\_CCGCCGTTGCAAAGGCGCGCCG\\_C & C  & CCGCCGTTGCAAAGGCGCGCCG & -0.06065190 & 0.3282630\\\\\n",
       "\t4 & rs575272151                      & G  & C                      & -0.01191050 & 0.4685997\\\\\n",
       "\t5 & rs544419019                      & G  & C                      & -0.01191050 & 0.4685997\\\\\n",
       "\t6 & rs540538026                      & A  & G                      & -0.00217351 & 0.9222613\\\\\n",
       "\\end{tabular}\n"
      ],
      "text/markdown": [
       "\n",
       "A data.frame: 6 × 5\n",
       "\n",
       "| <!--/--> | ID &lt;chr&gt; | A1 &lt;chr&gt; | A2 &lt;chr&gt; | BETA &lt;dbl&gt; | P &lt;dbl&gt; |\n",
       "|---|---|---|---|---|---|\n",
       "| 1 | rs367896724                      | AC | A                      | -0.00713639 | 0.4610139 |\n",
       "| 2 | rs201106462                      | TA | T                      |  0.00733421 | 0.4609459 |\n",
       "| 3 | 1:10616_CCGCCGTTGCAAAGGCGCGCCG_C | C  | CCGCCGTTGCAAAGGCGCGCCG | -0.06065190 | 0.3282630 |\n",
       "| 4 | rs575272151                      | G  | C                      | -0.01191050 | 0.4685997 |\n",
       "| 5 | rs544419019                      | G  | C                      | -0.01191050 | 0.4685997 |\n",
       "| 6 | rs540538026                      | A  | G                      | -0.00217351 | 0.9222613 |\n",
       "\n"
      ],
      "text/plain": [
       "  ID                               A1 A2                     BETA       \n",
       "1 rs367896724                      AC A                      -0.00713639\n",
       "2 rs201106462                      TA T                       0.00733421\n",
       "3 1:10616_CCGCCGTTGCAAAGGCGCGCCG_C C  CCGCCGTTGCAAAGGCGCGCCG -0.06065190\n",
       "4 rs575272151                      G  C                      -0.01191050\n",
       "5 rs544419019                      G  C                      -0.01191050\n",
       "6 rs540538026                      A  G                      -0.00217351\n",
       "  P        \n",
       "1 0.4610139\n",
       "2 0.4609459\n",
       "3 0.3282630\n",
       "4 0.4685997\n",
       "5 0.4685997\n",
       "6 0.9222613"
      ]
     },
     "metadata": {},
     "output_type": "display_data"
    }
   ],
   "source": [
    "head(data)"
   ]
  },
  {
   "cell_type": "code",
   "execution_count": null,
   "metadata": {},
   "outputs": [],
   "source": []
  }
 ],
 "metadata": {
  "kernelspec": {
   "display_name": "R",
   "language": "R",
   "name": "ir"
  },
  "language_info": {
   "codemirror_mode": "r",
   "file_extension": ".r",
   "mimetype": "text/x-r-source",
   "name": "R",
   "pygments_lexer": "r",
   "version": "4.0.0"
  }
 },
 "nbformat": 4,
 "nbformat_minor": 4
}
