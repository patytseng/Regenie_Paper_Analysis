{
 "cells": [
  {
   "cell_type": "code",
   "execution_count": 3,
   "metadata": {},
   "outputs": [
    {
     "name": "stdout",
     "output_type": "stream",
     "text": [
      "Currently Parsing Chromosome 1...\n",
      "Currently Parsing Chromosome 2...\n",
      "Currently Parsing Chromosome 3...\n",
      "Currently Parsing Chromosome 4...\n",
      "Currently Parsing Chromosome 5...\n",
      "Currently Parsing Chromosome 6...\n",
      "Currently Parsing Chromosome 7...\n",
      "Currently Parsing Chromosome 8...\n",
      "Currently Parsing Chromosome 9...\n",
      "Currently Parsing Chromosome 10...\n",
      "Currently Parsing Chromosome 11...\n",
      "Currently Parsing Chromosome 12...\n",
      "Currently Parsing Chromosome 13...\n",
      "Currently Parsing Chromosome 14...\n",
      "Currently Parsing Chromosome 15...\n",
      "Currently Parsing Chromosome 16...\n",
      "Currently Parsing Chromosome 17...\n",
      "Currently Parsing Chromosome 18...\n",
      "Currently Parsing Chromosome 19...\n",
      "Currently Parsing Chromosome 20...\n",
      "Currently Parsing Chromosome 21...\n",
      "Currently Parsing Chromosome 22...\n"
     ]
    }
   ],
   "source": [
    "with open(f'weights.tmp','w') as out:\n",
    "    out.write('chr,bp,non_effect_allele,effect_allele,weight\\n')\n",
    "    for chrom in range(1,23):\n",
    "        print(f'Currently Parsing Chromosome {chrom}...')\n",
    "        header_line  = True\n",
    "        with open(f'chr{chrom}_weights.csv','r') as file:\n",
    "            for line in file:\n",
    "                if header_line:\n",
    "                    header_line = False\n",
    "                else:\n",
    "                    line = list(line[:-1].split(','))\n",
    "                    if float(line[-1]) > 0:\n",
    "                        out.write(f'{line[0]},{line[1]},{line[2]},{line[3]},{float(line[4])}\\n')\n",
    "                    elif float(line[-1]) < 0:\n",
    "                        out.write(f'{line[0]},{line[1]},{line[3]},{line[2]},{float(line[4])*-1}\\n')\n",
    "                    elif float(line[-1]) == 0:\n",
    "                        pass\n",
    "                    else:\n",
    "                        print(f'Something went wrong:\\n{line}')"
   ]
  },
  {
   "cell_type": "code",
   "execution_count": null,
   "metadata": {},
   "outputs": [],
   "source": []
  },
  {
   "cell_type": "code",
   "execution_count": null,
   "metadata": {},
   "outputs": [],
   "source": []
  }
 ],
 "metadata": {
  "kernelspec": {
   "display_name": "Python 3",
   "language": "python",
   "name": "python3"
  },
  "language_info": {
   "codemirror_mode": {
    "name": "ipython",
    "version": 3
   },
   "file_extension": ".py",
   "mimetype": "text/x-python",
   "name": "python",
   "nbconvert_exporter": "python",
   "pygments_lexer": "ipython3",
   "version": "3.6.3"
  }
 },
 "nbformat": 4,
 "nbformat_minor": 4
}
