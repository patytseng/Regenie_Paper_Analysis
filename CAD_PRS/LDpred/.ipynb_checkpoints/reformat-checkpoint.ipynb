{
 "cells": [
  {
   "cell_type": "code",
   "execution_count": 34,
   "metadata": {},
   "outputs": [],
   "source": [
    "path = glue::glue('~/Torkamani_Projects/20210712_Analysis-RegeniePaper/CAD_PRS/LDpred/exBTs_regenie_phenoCol1_SPA_CADComp.regenie.for_ldpred.reweighted_LDpred_p{p}000e-02.txt',p=sprintf(\"%.1f\", seq(3.0,6.0,0.5)))\n",
    "\n",
    "data = vector('list',7)\n",
    "for (i in 1:7) {\n",
    "    data[[i]] <- read.csv(path[i],sep = ' ')[seq(1,25,4)]\n",
    "    names(data[[i]]) <- c('chr','bp','ID','effect_allele','non_effect_allele','raw_beta','weight')\n",
    "    data[[i]] <- data[[i]][c('chr','bp','non_effect_allele','effect_allele','weight')]\n",
    "    data[[i]]['chr'] <- as.integer(sapply(strsplit(data[[i]]$chr,\"_\"), `[`, 2))\n",
    "    \n",
    "    subdata <- data[[i]][data[[i]]$weight < 0,]\n",
    "    subdata <- subdata[c('chr','bp','effect_allele','non_effect_allele','weight')]\n",
    "    names(subdata) <- c('chr','bp','non_effect_allele','effect_allele','weight')\n",
    "    subdata['weight'] <- -1 * subdata['weight']\n",
    "    \n",
    "    ind <- match(paste0(subdata$chr, '_', subdata$bp),paste0(data[[i]]$chr, '_', data[[i]]$bp))\n",
    "    data[[i]][ind,] <- subdata\n",
    "}"
   ]
  },
  {
   "cell_type": "code",
   "execution_count": 37,
   "metadata": {},
   "outputs": [],
   "source": [
    "file_names = glue::glue('reweighted_LDpred_V{i}.csv',i=1:30)\n",
    "\n",
    "for (i in 1:7) {\n",
    "    write.csv(data[[i]],file_names[[i]],row.names = FALSE)\n",
    "}"
   ]
  },
  {
   "cell_type": "code",
   "execution_count": null,
   "metadata": {},
   "outputs": [],
   "source": []
  }
 ],
 "metadata": {
  "kernelspec": {
   "display_name": "R",
   "language": "R",
   "name": "ir"
  },
  "language_info": {
   "codemirror_mode": "r",
   "file_extension": ".r",
   "mimetype": "text/x-r-source",
   "name": "R",
   "pygments_lexer": "r",
   "version": "4.0.0"
  }
 },
 "nbformat": 4,
 "nbformat_minor": 4
}
