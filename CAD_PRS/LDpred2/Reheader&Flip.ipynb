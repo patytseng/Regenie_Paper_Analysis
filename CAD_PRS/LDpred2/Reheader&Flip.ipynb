{
 "cells": [
  {
   "cell_type": "code",
   "execution_count": 5,
   "metadata": {},
   "outputs": [
    {
     "name": "stdout",
     "output_type": "stream",
     "text": [
      "Currently Parsing V1...\n",
      "Currently Parsing V2...\n",
      "Currently Parsing V3...\n",
      "Currently Parsing V4...\n",
      "Currently Parsing V5...\n",
      "Currently Parsing V6...\n",
      "Currently Parsing V7...\n",
      "Currently Parsing V8...\n",
      "Currently Parsing V9...\n",
      "Currently Parsing V10...\n",
      "Currently Parsing V11...\n",
      "Currently Parsing V12...\n",
      "Currently Parsing V13...\n",
      "Currently Parsing V14...\n",
      "Currently Parsing V15...\n",
      "Currently Parsing V16...\n",
      "Currently Parsing V17...\n",
      "Currently Parsing V18...\n",
      "Currently Parsing V19...\n",
      "Currently Parsing V20...\n",
      "Currently Parsing V21...\n",
      "Currently Parsing V22...\n",
      "Currently Parsing V23...\n",
      "Currently Parsing V24...\n",
      "Currently Parsing V25...\n",
      "Currently Parsing V26...\n",
      "Currently Parsing V27...\n",
      "Currently Parsing V28...\n",
      "Currently Parsing V29...\n",
      "Currently Parsing V30...\n"
     ]
    }
   ],
   "source": [
    "for file_num in range(1,31):\n",
    "    print(f'Currently Parsing V{file_num}...')\n",
    "    header_line  = True\n",
    "    with open(f'V{file_num}','r') as file:\n",
    "        with open(f'V{file_num}.tmp','w') as out:\n",
    "            for line in file:\n",
    "                if header_line:\n",
    "                    out.write('chr,bp,non_effect_allele,effect_allele,weight\\n')\n",
    "                    header_line = False\n",
    "                else:\n",
    "                    line = list(line[:-1].split(','))     \n",
    "                    if float(line[-1]) > 0:\n",
    "                        out.write(f'{line[0]},{line[1]},{line[2]},{line[3]},{float(line[4])}\\n')\n",
    "                    elif float(line[-1]) < 0:\n",
    "                        out.write(f'{line[0]},{line[1]},{line[3]},{line[2]},{float(line[4])*-1}\\n')\n",
    "                    else:\n",
    "                        print(f'Something went wrong:\\n{line}')"
   ]
  },
  {
   "cell_type": "code",
   "execution_count": null,
   "metadata": {},
   "outputs": [],
   "source": []
  }
 ],
 "metadata": {
  "kernelspec": {
   "display_name": "Python 3",
   "language": "python",
   "name": "python3"
  },
  "language_info": {
   "codemirror_mode": {
    "name": "ipython",
    "version": 3
   },
   "file_extension": ".py",
   "mimetype": "text/x-python",
   "name": "python",
   "nbconvert_exporter": "python",
   "pygments_lexer": "ipython3",
   "version": "3.6.3"
  }
 },
 "nbformat": 4,
 "nbformat_minor": 4
}
