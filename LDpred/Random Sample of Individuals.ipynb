{
 "cells": [
  {
   "cell_type": "code",
   "execution_count": 1,
   "metadata": {},
   "outputs": [],
   "source": [
    "data <- read.csv('/mnt/stsi/stsi1/ptseng/UKBB_Resources/filtered_noimpute_bed/ukb_cal_allChrs_prune.fam', sep='\\t')"
   ]
  },
  {
   "cell_type": "code",
   "execution_count": 2,
   "metadata": {},
   "outputs": [
    {
     "data": {
      "text/html": [
       "<table class=\"dataframe\">\n",
       "<caption>A data.frame: 6 × 6</caption>\n",
       "<thead>\n",
       "\t<tr><th></th><th scope=col>X2210132</th><th scope=col>X2210132.1</th><th scope=col>X0</th><th scope=col>X0.1</th><th scope=col>X1</th><th scope=col>X.9</th></tr>\n",
       "\t<tr><th></th><th scope=col>&lt;int&gt;</th><th scope=col>&lt;int&gt;</th><th scope=col>&lt;int&gt;</th><th scope=col>&lt;int&gt;</th><th scope=col>&lt;int&gt;</th><th scope=col>&lt;int&gt;</th></tr>\n",
       "</thead>\n",
       "<tbody>\n",
       "\t<tr><th scope=row>1</th><td>5803573</td><td>5803573</td><td>0</td><td>0</td><td>2</td><td>-9</td></tr>\n",
       "\t<tr><th scope=row>2</th><td>1898792</td><td>1898792</td><td>0</td><td>0</td><td>2</td><td>-9</td></tr>\n",
       "\t<tr><th scope=row>3</th><td>3342906</td><td>3342906</td><td>0</td><td>0</td><td>2</td><td>-9</td></tr>\n",
       "\t<tr><th scope=row>4</th><td>5111305</td><td>5111305</td><td>0</td><td>0</td><td>2</td><td>-9</td></tr>\n",
       "\t<tr><th scope=row>5</th><td>1539811</td><td>1539811</td><td>0</td><td>0</td><td>1</td><td>-9</td></tr>\n",
       "\t<tr><th scope=row>6</th><td>2648567</td><td>2648567</td><td>0</td><td>0</td><td>2</td><td>-9</td></tr>\n",
       "</tbody>\n",
       "</table>\n"
      ],
      "text/latex": [
       "A data.frame: 6 × 6\n",
       "\\begin{tabular}{r|llllll}\n",
       "  & X2210132 & X2210132.1 & X0 & X0.1 & X1 & X.9\\\\\n",
       "  & <int> & <int> & <int> & <int> & <int> & <int>\\\\\n",
       "\\hline\n",
       "\t1 & 5803573 & 5803573 & 0 & 0 & 2 & -9\\\\\n",
       "\t2 & 1898792 & 1898792 & 0 & 0 & 2 & -9\\\\\n",
       "\t3 & 3342906 & 3342906 & 0 & 0 & 2 & -9\\\\\n",
       "\t4 & 5111305 & 5111305 & 0 & 0 & 2 & -9\\\\\n",
       "\t5 & 1539811 & 1539811 & 0 & 0 & 1 & -9\\\\\n",
       "\t6 & 2648567 & 2648567 & 0 & 0 & 2 & -9\\\\\n",
       "\\end{tabular}\n"
      ],
      "text/markdown": [
       "\n",
       "A data.frame: 6 × 6\n",
       "\n",
       "| <!--/--> | X2210132 &lt;int&gt; | X2210132.1 &lt;int&gt; | X0 &lt;int&gt; | X0.1 &lt;int&gt; | X1 &lt;int&gt; | X.9 &lt;int&gt; |\n",
       "|---|---|---|---|---|---|---|\n",
       "| 1 | 5803573 | 5803573 | 0 | 0 | 2 | -9 |\n",
       "| 2 | 1898792 | 1898792 | 0 | 0 | 2 | -9 |\n",
       "| 3 | 3342906 | 3342906 | 0 | 0 | 2 | -9 |\n",
       "| 4 | 5111305 | 5111305 | 0 | 0 | 2 | -9 |\n",
       "| 5 | 1539811 | 1539811 | 0 | 0 | 1 | -9 |\n",
       "| 6 | 2648567 | 2648567 | 0 | 0 | 2 | -9 |\n",
       "\n"
      ],
      "text/plain": [
       "  X2210132 X2210132.1 X0 X0.1 X1 X.9\n",
       "1 5803573  5803573    0  0    2  -9 \n",
       "2 1898792  1898792    0  0    2  -9 \n",
       "3 3342906  3342906    0  0    2  -9 \n",
       "4 5111305  5111305    0  0    2  -9 \n",
       "5 1539811  1539811    0  0    1  -9 \n",
       "6 2648567  2648567    0  0    2  -9 "
      ]
     },
     "metadata": {},
     "output_type": "display_data"
    }
   ],
   "source": [
    "head(data)"
   ]
  },
  {
   "cell_type": "code",
   "execution_count": 3,
   "metadata": {},
   "outputs": [],
   "source": [
    "subdata <- data[,c(1,2)]\n",
    "names(subdata) <- c('FID','IID')"
   ]
  },
  {
   "cell_type": "code",
   "execution_count": 4,
   "metadata": {},
   "outputs": [],
   "source": [
    "output <- subdata[sample(nrow(subdata), 5000), ]"
   ]
  },
  {
   "cell_type": "code",
   "execution_count": 5,
   "metadata": {},
   "outputs": [
    {
     "data": {
      "text/html": [
       "<table class=\"dataframe\">\n",
       "<caption>A data.frame: 6 × 2</caption>\n",
       "<thead>\n",
       "\t<tr><th></th><th scope=col>FID</th><th scope=col>IID</th></tr>\n",
       "\t<tr><th></th><th scope=col>&lt;int&gt;</th><th scope=col>&lt;int&gt;</th></tr>\n",
       "</thead>\n",
       "<tbody>\n",
       "\t<tr><th scope=row>65455</th><td>3056490</td><td>3056490</td></tr>\n",
       "\t<tr><th scope=row>449379</th><td>1097071</td><td>1097071</td></tr>\n",
       "\t<tr><th scope=row>82279</th><td>5392302</td><td>5392302</td></tr>\n",
       "\t<tr><th scope=row>402401</th><td>4893551</td><td>4893551</td></tr>\n",
       "\t<tr><th scope=row>218593</th><td>4526692</td><td>4526692</td></tr>\n",
       "\t<tr><th scope=row>239559</th><td>1012016</td><td>1012016</td></tr>\n",
       "</tbody>\n",
       "</table>\n"
      ],
      "text/latex": [
       "A data.frame: 6 × 2\n",
       "\\begin{tabular}{r|ll}\n",
       "  & FID & IID\\\\\n",
       "  & <int> & <int>\\\\\n",
       "\\hline\n",
       "\t65455 & 3056490 & 3056490\\\\\n",
       "\t449379 & 1097071 & 1097071\\\\\n",
       "\t82279 & 5392302 & 5392302\\\\\n",
       "\t402401 & 4893551 & 4893551\\\\\n",
       "\t218593 & 4526692 & 4526692\\\\\n",
       "\t239559 & 1012016 & 1012016\\\\\n",
       "\\end{tabular}\n"
      ],
      "text/markdown": [
       "\n",
       "A data.frame: 6 × 2\n",
       "\n",
       "| <!--/--> | FID &lt;int&gt; | IID &lt;int&gt; |\n",
       "|---|---|---|\n",
       "| 65455 | 3056490 | 3056490 |\n",
       "| 449379 | 1097071 | 1097071 |\n",
       "| 82279 | 5392302 | 5392302 |\n",
       "| 402401 | 4893551 | 4893551 |\n",
       "| 218593 | 4526692 | 4526692 |\n",
       "| 239559 | 1012016 | 1012016 |\n",
       "\n"
      ],
      "text/plain": [
       "       FID     IID    \n",
       "65455  3056490 3056490\n",
       "449379 1097071 1097071\n",
       "82279  5392302 5392302\n",
       "402401 4893551 4893551\n",
       "218593 4526692 4526692\n",
       "239559 1012016 1012016"
      ]
     },
     "metadata": {},
     "output_type": "display_data"
    }
   ],
   "source": [
    "head(output)"
   ]
  },
  {
   "cell_type": "code",
   "execution_count": 9,
   "metadata": {},
   "outputs": [],
   "source": [
    "write.table(output,'plink_filter_keep.txt',row.names = FALSE)"
   ]
  },
  {
   "cell_type": "code",
   "execution_count": null,
   "metadata": {},
   "outputs": [],
   "source": []
  }
 ],
 "metadata": {
  "kernelspec": {
   "display_name": "R",
   "language": "R",
   "name": "ir"
  },
  "language_info": {
   "codemirror_mode": "r",
   "file_extension": ".r",
   "mimetype": "text/x-r-source",
   "name": "R",
   "pygments_lexer": "r",
   "version": "4.0.0"
  }
 },
 "nbformat": 4,
 "nbformat_minor": 4
}
